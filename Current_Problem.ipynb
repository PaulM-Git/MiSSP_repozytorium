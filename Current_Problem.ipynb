{
  "nbformat": 4,
  "nbformat_minor": 0,
  "metadata": {
    "colab": {
      "name": "Current_Problem.ipynb",
      "provenance": [],
      "collapsed_sections": []
    },
    "kernelspec": {
      "name": "python3",
      "display_name": "Python 3"
    }
  },
  "cells": [
    {
      "cell_type": "code",
      "metadata": {
        "id": "i-ODZSBxNKSO",
        "colab": {
          "base_uri": "https://localhost:8080/"
        },
        "outputId": "6d958d33-15a5-4b5f-e96f-e947aec58e3c"
      },
      "source": [
        "!pip install pulp\n",
        "\n",
        "!sudo apt-get install coinor-cbc glpk-utils coinor-clp"
      ],
      "execution_count": 32,
      "outputs": [
        {
          "output_type": "stream",
          "text": [
            "Requirement already satisfied: pulp in /usr/local/lib/python3.6/dist-packages (2.4)\n",
            "Requirement already satisfied: amply>=0.1.2 in /usr/local/lib/python3.6/dist-packages (from pulp) (0.1.4)\n",
            "Requirement already satisfied: docutils>=0.3 in /usr/local/lib/python3.6/dist-packages (from amply>=0.1.2->pulp) (0.16)\n",
            "Requirement already satisfied: pyparsing in /usr/local/lib/python3.6/dist-packages (from amply>=0.1.2->pulp) (2.4.7)\n",
            "Reading package lists... Done\n",
            "Building dependency tree       \n",
            "Reading state information... Done\n",
            "coinor-cbc is already the newest version (2.9.9+repack1-1).\n",
            "coinor-clp is already the newest version (1.16.11+repack1-1).\n",
            "glpk-utils is already the newest version (4.65-1).\n",
            "0 upgraded, 0 newly installed, 0 to remove and 15 not upgraded.\n"
          ],
          "name": "stdout"
        }
      ]
    },
    {
      "cell_type": "code",
      "metadata": {
        "id": "GYdVPJFmNjt1",
        "colab": {
          "base_uri": "https://localhost:8080/"
        },
        "outputId": "c5e9a107-d607-455c-88f5-9152cc9fed09"
      },
      "source": [
        "import pulp\n",
        "\n",
        "print(pulp.__version__)"
      ],
      "execution_count": 33,
      "outputs": [
        {
          "output_type": "stream",
          "text": [
            "2.4\n"
          ],
          "name": "stdout"
        }
      ]
    },
    {
      "cell_type": "markdown",
      "metadata": {
        "id": "M52jh2W8Np7i"
      },
      "source": [
        "Mamy 5 rezystorów. Rezystory R1 i R2 są połączone równolegle, tak samo rezystory R4 i R5. Natomiast szeregowo do nich połączony jest rezystor R3\n",
        "\n"
      ]
    },
    {
      "cell_type": "code",
      "metadata": {
        "id": "kjU8V_aaNpX7"
      },
      "source": [
        "from pulp import *\n",
        "import pandas as pd"
      ],
      "execution_count": 63,
      "outputs": []
    },
    {
      "cell_type": "code",
      "metadata": {
        "id": "_5kHSJ_JPxvA",
        "colab": {
          "base_uri": "https://localhost:8080/"
        },
        "outputId": "7819bd42-c7b0-4713-cc30-b5f34a46dbba"
      },
      "source": [
        "#funkcja celu i zmienne decyzyjne:\n",
        "Current=LpProblem(\"The Current problem\",LpMaximize)\n",
        "I1=LpVariable(\"Prąd_I1\",0,2,LpContinuous)\n",
        "I2=LpVariable(\"Prąd_I2\",0,3,LpContinuous) \n",
        "I3=LpVariable(\"Prąd_I3\",0,4,LpContinuous)\n",
        "I4=LpVariable(\"Prąd_I4\",0,2,LpContinuous) \n",
        "I5=LpVariable(\"Prąd_I5\",0,2,LpContinuous)"
      ],
      "execution_count": 64,
      "outputs": [
        {
          "output_type": "stream",
          "text": [
            "/usr/local/lib/python3.6/dist-packages/pulp/pulp.py:1199: UserWarning: Spaces are not permitted in the name. Converted to '_'\n",
            "  warnings.warn(\"Spaces are not permitted in the name. Converted to '_'\")\n"
          ],
          "name": "stderr"
        }
      ]
    },
    {
      "cell_type": "code",
      "metadata": {
        "id": "fIjcun5DIpAw"
      },
      "source": [
        "Resistance = (8.0, 6.0, 4.0, 10.0, 8.0)"
      ],
      "execution_count": 65,
      "outputs": []
    },
    {
      "cell_type": "code",
      "metadata": {
        "id": "edAXlCmDeYk0"
      },
      "source": [
        "#ograniczenia:\n",
        "Current += I1+I2+I3+I4+I5, \"Max_Current\"\n",
        "Current += I1+I2 == I3, \"1c\"\n",
        "Current += I3-I4 == I5, \"2c\"\n",
        "Current += I1*Resistance[0]-I2*Resistance[1] == 0, \"3c\"\n",
        "Current += I4*Resistance[3]-I5*Resistance[4] == 0, \"4c\""
      ],
      "execution_count": 66,
      "outputs": []
    },
    {
      "cell_type": "code",
      "metadata": {
        "id": "togkx7olW_lb",
        "colab": {
          "base_uri": "https://localhost:8080/"
        },
        "outputId": "f3e8e1f2-eb7b-4340-8cea-e32cf3cdc3b2"
      },
      "source": [
        "Current.writeLP(\"Maximum Current.lp\")\r\n",
        "Current.solve()"
      ],
      "execution_count": 67,
      "outputs": [
        {
          "output_type": "execute_result",
          "data": {
            "text/plain": [
              "1"
            ]
          },
          "metadata": {
            "tags": []
          },
          "execution_count": 67
        }
      ]
    },
    {
      "cell_type": "code",
      "metadata": {
        "id": "Uynx_-veSMHL",
        "colab": {
          "base_uri": "https://localhost:8080/"
        },
        "outputId": "f9d50a63-e102-46b6-fe43-abc72f5398db"
      },
      "source": [
        "Current_maximum = 0\r\n",
        "for v in Current.variables():\r\n",
        "    print(v.name, \"=\", v.varValue, \"A\")\r\n",
        "    if (v.varValue > Current_maximum):\r\n",
        "      Current_maximum = v.varValue \r\n",
        "print(\"Suma prądów płynących w układzie:\", value(Current.objective), \"A\") \r\n",
        "\r\n",
        "print(\"Prąd maksymalny:\", Current_maximum, \"A\")"
      ],
      "execution_count": 68,
      "outputs": [
        {
          "output_type": "stream",
          "text": [
            "Prąd_I1 = 1.5428571 A\n",
            "Prąd_I2 = 2.0571429 A\n",
            "Prąd_I3 = 3.6 A\n",
            "Prąd_I4 = 1.6 A\n",
            "Prąd_I5 = 2.0 A\n",
            "Suma prądów płynących w układzie: 10.8 A\n",
            "Prąd maksymalny: 3.6 A\n"
          ],
          "name": "stdout"
        }
      ]
    }
  ]
}