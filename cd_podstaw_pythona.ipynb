{
  "nbformat": 4,
  "nbformat_minor": 0,
  "metadata": {
    "kernelspec": {
      "display_name": "Python 3",
      "language": "python",
      "name": "python3"
    },
    "language_info": {
      "codemirror_mode": {
        "name": "ipython",
        "version": 3
      },
      "file_extension": ".py",
      "mimetype": "text/x-python",
      "name": "python",
      "nbconvert_exporter": "python",
      "pygments_lexer": "ipython3",
      "version": "3.7.3"
    },
    "colab": {
      "name": "cd_podstaw_pythona-backup.ipynb",
      "provenance": [],
      "collapsed_sections": []
    }
  },
  "cells": [
    {
      "cell_type": "code",
      "metadata": {
        "id": "H65phy2cz_X3"
      },
      "source": [
        "import numpy as np # importowanie biblioteki Numpy powoduje zaimportowanie cech matalaba do pythona "
      ],
      "execution_count": null,
      "outputs": []
    },
    {
      "cell_type": "code",
      "metadata": {
        "id": "okenwbNKz_YE"
      },
      "source": [
        "a_list= [1,2,3,4,5, [1,2,3], \"temat\"] # nie idealna lista\n",
        "k_krotka = (1,2,3,4,5, [1,2,3], \"temat\")\n",
        "b_list = [1,2,3,4,5]\n",
        "n_array = np.array(b_list) # wektor numpy -> odpowiednik macierzy \n"
      ],
      "execution_count": null,
      "outputs": []
    },
    {
      "cell_type": "code",
      "metadata": {
        "id": "Mnq82Kz9z_YP",
        "colab": {
          "base_uri": "https://localhost:8080/",
          "height": 35
        },
        "outputId": "95a73154-16fb-4c78-9886-964c547e5928"
      },
      "source": [
        "a_list+b_list\n",
        "n_array+n_array"
      ],
      "execution_count": null,
      "outputs": [
        {
          "output_type": "execute_result",
          "data": {
            "text/plain": [
              "array([ 2,  4,  6,  8, 10])"
            ]
          },
          "metadata": {
            "tags": []
          },
          "execution_count": 35
        }
      ]
    },
    {
      "cell_type": "code",
      "metadata": {
        "id": "tqzaCeqgz_YY",
        "colab": {
          "base_uri": "https://localhost:8080/",
          "height": 35
        },
        "outputId": "ad6aaf29-e8eb-4fab-e114-b99eea4a9ed0"
      },
      "source": [
        "a_list[3]"
      ],
      "execution_count": null,
      "outputs": [
        {
          "output_type": "execute_result",
          "data": {
            "text/plain": [
              "4"
            ]
          },
          "metadata": {
            "tags": []
          },
          "execution_count": 36
        }
      ]
    },
    {
      "cell_type": "code",
      "metadata": {
        "id": "64pm2f1Lz_Yg",
        "colab": {
          "base_uri": "https://localhost:8080/",
          "height": 35
        },
        "outputId": "c52f9474-646b-4032-f9ce-32071b1b30f7"
      },
      "source": [
        "a_list.append(100) # dodawanie na końcu array'a kolejnego rekordu \n",
        "print(a_list)"
      ],
      "execution_count": null,
      "outputs": [
        {
          "output_type": "stream",
          "text": [
            "[1, 2, 3, 4, 5, [1, 2, 3], 'temat', 100]\n"
          ],
          "name": "stdout"
        }
      ]
    },
    {
      "cell_type": "code",
      "metadata": {
        "id": "Nohrvmtiz_Yn",
        "colab": {
          "base_uri": "https://localhost:8080/",
          "height": 35
        },
        "outputId": "d5943341-50f5-41c2-9157-a78bb99b88d6"
      },
      "source": [
        "k_krotka[4]"
      ],
      "execution_count": null,
      "outputs": [
        {
          "output_type": "execute_result",
          "data": {
            "text/plain": [
              "5"
            ]
          },
          "metadata": {
            "tags": []
          },
          "execution_count": 38
        }
      ]
    },
    {
      "cell_type": "code",
      "metadata": {
        "id": "dvgnIE3_z_Yv",
        "colab": {
          "base_uri": "https://localhost:8080/",
          "height": 35
        },
        "outputId": "8a69839d-4e95-4d19-e907-b2bfa1e1471c"
      },
      "source": [
        "k_krotka[5].append(100)\n",
        "print(k_krotka)"
      ],
      "execution_count": null,
      "outputs": [
        {
          "output_type": "stream",
          "text": [
            "(1, 2, 3, 4, 5, [1, 2, 3, 100], 'temat')\n"
          ],
          "name": "stdout"
        }
      ]
    },
    {
      "cell_type": "code",
      "metadata": {
        "id": "FV-odhsRz_Y0",
        "colab": {
          "base_uri": "https://localhost:8080/",
          "height": 35
        },
        "outputId": "e9c30323-629c-4a6e-e7fc-cd7087b0cc45"
      },
      "source": [
        "suma = np.array(b_list)+np.array(b_list)\n",
        "suma.dtype"
      ],
      "execution_count": null,
      "outputs": [
        {
          "output_type": "execute_result",
          "data": {
            "text/plain": [
              "dtype('int64')"
            ]
          },
          "metadata": {
            "tags": []
          },
          "execution_count": 40
        }
      ]
    },
    {
      "cell_type": "code",
      "metadata": {
        "id": "4Wifh8gvz_Y6"
      },
      "source": [
        "n_array = np.array(a_list) # wektor numpy"
      ],
      "execution_count": null,
      "outputs": []
    },
    {
      "cell_type": "code",
      "metadata": {
        "id": "KOTCwwXGz_ZA",
        "colab": {
          "base_uri": "https://localhost:8080/",
          "height": 35
        },
        "outputId": "1c458aac-6c32-475a-e745-fb75c97d2522"
      },
      "source": [
        "n_array # typ object będzie działał dużo wolniej "
      ],
      "execution_count": null,
      "outputs": [
        {
          "output_type": "execute_result",
          "data": {
            "text/plain": [
              "array([1, 2, 3, 4, 5, list([1, 2, 3]), 'temat', 100], dtype=object)"
            ]
          },
          "metadata": {
            "tags": []
          },
          "execution_count": 42
        }
      ]
    },
    {
      "cell_type": "code",
      "metadata": {
        "id": "zG-z5753z_ZG"
      },
      "source": [
        "#### Nowosci\n",
        "\n",
        "studenci_slownik = {123: 123,\"Igor\":3, \"Frankek\":5, \"Zosia\":22,\"Julia\":[2,21], (1,2):\"Krotka\"} #słownik zawiera klucz i wartość "
      ],
      "execution_count": null,
      "outputs": []
    },
    {
      "cell_type": "code",
      "metadata": {
        "id": "G8CBaVLYz_ZN",
        "colab": {
          "base_uri": "https://localhost:8080/",
          "height": 35
        },
        "outputId": "52534ac1-cec5-4dd7-a13f-01bc7b18ae07"
      },
      "source": [
        "print(studenci_slownik)"
      ],
      "execution_count": null,
      "outputs": [
        {
          "output_type": "stream",
          "text": [
            "{123: 123, 'Igor': 3, 'Frankek': 5, 'Zosia': 22, 'Julia': [2, 21], (1, 2): 'Krotka'}\n"
          ],
          "name": "stdout"
        }
      ]
    },
    {
      "cell_type": "code",
      "metadata": {
        "id": "rsiV7dEVz_ZT",
        "colab": {
          "base_uri": "https://localhost:8080/",
          "height": 35
        },
        "outputId": "82ed9d76-fc42-4d24-d462-ef607b52cbfa"
      },
      "source": [
        "studenci_slownik[\"Zosia\"]"
      ],
      "execution_count": null,
      "outputs": [
        {
          "output_type": "execute_result",
          "data": {
            "text/plain": [
              "22"
            ]
          },
          "metadata": {
            "tags": []
          },
          "execution_count": 45
        }
      ]
    },
    {
      "cell_type": "code",
      "metadata": {
        "id": "HuSGoqbbz_Za",
        "colab": {
          "base_uri": "https://localhost:8080/",
          "height": 256
        },
        "outputId": "377ffd65-12b9-49b7-e3ab-ae60d41c79a1"
      },
      "source": [
        "for elementy in studenci_slownik:\n",
        "    print(elementy)\n",
        "\n",
        "print(\"*\"*20)\n",
        "for elementy in studenci_slownik.keys():\n",
        "    print(elementy)"
      ],
      "execution_count": null,
      "outputs": [
        {
          "output_type": "stream",
          "text": [
            "123\n",
            "Igor\n",
            "Frankek\n",
            "Zosia\n",
            "Julia\n",
            "(1, 2)\n",
            "********************\n",
            "123\n",
            "Igor\n",
            "Frankek\n",
            "Zosia\n",
            "Julia\n",
            "(1, 2)\n"
          ],
          "name": "stdout"
        }
      ]
    },
    {
      "cell_type": "code",
      "metadata": {
        "id": "1VT3naBMz_Zg",
        "colab": {
          "base_uri": "https://localhost:8080/",
          "height": 127
        },
        "outputId": "52d3ed2d-de92-400a-dc3f-4192d40c0906"
      },
      "source": [
        "for elementy in studenci_slownik.items():\n",
        "    print(elementy)"
      ],
      "execution_count": null,
      "outputs": [
        {
          "output_type": "stream",
          "text": [
            "(123, 123)\n",
            "('Igor', 3)\n",
            "('Frankek', 5)\n",
            "('Zosia', 22)\n",
            "('Julia', [2, 21])\n",
            "((1, 2), 'Krotka')\n"
          ],
          "name": "stdout"
        }
      ]
    },
    {
      "cell_type": "code",
      "metadata": {
        "id": "QAchfeHEz_Zn",
        "colab": {
          "base_uri": "https://localhost:8080/",
          "height": 127
        },
        "outputId": "3472d49c-614e-4f4e-afaf-b3cc68456f23"
      },
      "source": [
        "for elementy in studenci_slownik.values():\n",
        "    print(elementy)"
      ],
      "execution_count": null,
      "outputs": [
        {
          "output_type": "stream",
          "text": [
            "123\n",
            "3\n",
            "5\n",
            "22\n",
            "[2, 21]\n",
            "Krotka\n"
          ],
          "name": "stdout"
        }
      ]
    },
    {
      "cell_type": "code",
      "metadata": {
        "id": "HGq3Rd3e84Oc",
        "colab": {
          "base_uri": "https://localhost:8080/",
          "height": 35
        },
        "outputId": "42486633-40df-4c5f-dcd5-783c41380797"
      },
      "source": [
        "stara_lista = [\"Igor\", \"Franek\", \"nie imie\", \"Ania\"]\n",
        "nowa_lista = [imie for imie in stara_lista if imie[0].isupper()]\n",
        "print(nowa_lista)"
      ],
      "execution_count": null,
      "outputs": [
        {
          "output_type": "stream",
          "text": [
            "['Igor', 'Franek', 'Ania']\n"
          ],
          "name": "stdout"
        }
      ]
    },
    {
      "cell_type": "code",
      "metadata": {
        "id": "Yp-wTKcZz_Zs"
      },
      "source": [
        "studenci_slownik[\"Cuthulu\"]= -1000000"
      ],
      "execution_count": null,
      "outputs": []
    },
    {
      "cell_type": "code",
      "metadata": {
        "id": "a1RJFlMez_Zw",
        "colab": {
          "base_uri": "https://localhost:8080/",
          "height": 146
        },
        "outputId": "f3028bda-398d-43c0-a884-5dd74fe59896"
      },
      "source": [
        "studenci_slownik"
      ],
      "execution_count": null,
      "outputs": [
        {
          "output_type": "execute_result",
          "data": {
            "text/plain": [
              "{(1, 2): 'Krotka',\n",
              " 123: 123,\n",
              " 'Cuthulu': -1000000,\n",
              " 'Frankek': 5,\n",
              " 'Igor': 3,\n",
              " 'Julia': [2, 21],\n",
              " 'Zosia': 22}"
            ]
          },
          "metadata": {
            "tags": []
          },
          "execution_count": 51
        }
      ]
    },
    {
      "cell_type": "code",
      "metadata": {
        "id": "eKmDDS30z_Z1",
        "colab": {
          "base_uri": "https://localhost:8080/",
          "height": 74
        },
        "outputId": "6a838867-9d9b-4c12-8e0e-52e73f033bfc"
      },
      "source": [
        "automatyczna_lista=[liczba**2 for liczba in range(100) if liczba%4==0]\n",
        "print(automatyczna_lista)\n",
        "\n",
        "automatyczna_lista_pary = [(liczba, liczba**2) for liczba in range(100) if liczba%4==0]\n",
        "print(automatyczna_lista_pary)"
      ],
      "execution_count": null,
      "outputs": [
        {
          "output_type": "stream",
          "text": [
            "[0, 16, 64, 144, 256, 400, 576, 784, 1024, 1296, 1600, 1936, 2304, 2704, 3136, 3600, 4096, 4624, 5184, 5776, 6400, 7056, 7744, 8464, 9216]\n",
            "[(0, 0), (4, 16), (8, 64), (12, 144), (16, 256), (20, 400), (24, 576), (28, 784), (32, 1024), (36, 1296), (40, 1600), (44, 1936), (48, 2304), (52, 2704), (56, 3136), (60, 3600), (64, 4096), (68, 4624), (72, 5184), (76, 5776), (80, 6400), (84, 7056), (88, 7744), (92, 8464), (96, 9216)]\n"
          ],
          "name": "stdout"
        }
      ]
    },
    {
      "cell_type": "code",
      "metadata": {
        "id": "no74Kh3Ez_Z5",
        "colab": {
          "base_uri": "https://localhost:8080/",
          "height": 35
        },
        "outputId": "8974f524-a044-4583-b87b-a79eaf9ad767"
      },
      "source": [
        "studenci = studenci_slownik.keys()\n",
        "automatyczny_slownik=dict(para for para in enumerate(studenci))\n",
        "print(automatyczny_slownik)"
      ],
      "execution_count": null,
      "outputs": [
        {
          "output_type": "stream",
          "text": [
            "{0: 123, 1: 'Igor', 2: 'Frankek', 3: 'Zosia', 4: 'Julia', 5: (1, 2), 6: 'Cuthulu'}\n"
          ],
          "name": "stdout"
        }
      ]
    },
    {
      "cell_type": "code",
      "metadata": {
        "id": "FIO-amF3CkNd",
        "colab": {
          "base_uri": "https://localhost:8080/",
          "height": 54
        },
        "outputId": "b3445326-1b99-475c-ec32-b3862729070a"
      },
      "source": [
        "print(studenci_slownik)\n",
        "print(\"Igor\" in studenci_slownik)"
      ],
      "execution_count": null,
      "outputs": [
        {
          "output_type": "stream",
          "text": [
            "{123: 123, 'Igor': 3, 'Frankek': 5, 'Zosia': 22, 'Julia': [2, 21], (1, 2): 'Krotka', 'Cuthulu': -1000000}\n",
            "True\n"
          ],
          "name": "stdout"
        }
      ]
    },
    {
      "cell_type": "code",
      "metadata": {
        "id": "symVkaDzz_Z-"
      },
      "source": [
        "##### zbiory\n",
        "\n",
        "a={1,2,3,\"Franek\"}\n",
        "b={2,3,4,\"Franek\"}\n"
      ],
      "execution_count": null,
      "outputs": []
    },
    {
      "cell_type": "code",
      "metadata": {
        "id": "EgjlKeMdz_aF",
        "colab": {
          "base_uri": "https://localhost:8080/",
          "height": 35
        },
        "outputId": "69f6ff5e-807c-490d-8f30-d1e99308cbbe"
      },
      "source": [
        "a|b #suma zbiorów, sum of sets"
      ],
      "execution_count": null,
      "outputs": [
        {
          "output_type": "execute_result",
          "data": {
            "text/plain": [
              "{1, 2, 3, 4, 'Franek'}"
            ]
          },
          "metadata": {
            "tags": []
          },
          "execution_count": 56
        }
      ]
    },
    {
      "cell_type": "code",
      "metadata": {
        "id": "76A2iVxrz_aL",
        "colab": {
          "base_uri": "https://localhost:8080/",
          "height": 35
        },
        "outputId": "b9ef3c22-a971-4e50-9ecf-1afb36af4d0c"
      },
      "source": [
        "a.add(\"Franek\")\n",
        "print(a)"
      ],
      "execution_count": null,
      "outputs": [
        {
          "output_type": "stream",
          "text": [
            "{1, 2, 3, 'Franek'}\n"
          ],
          "name": "stdout"
        }
      ]
    },
    {
      "cell_type": "code",
      "metadata": {
        "id": "KWsIiX0nz_aQ",
        "colab": {
          "base_uri": "https://localhost:8080/",
          "height": 35
        },
        "outputId": "3eb0163e-6ec6-44c5-a25a-14d93883fc98"
      },
      "source": [
        "1 in a\n",
        "\"Igor\" in studenci_slownik"
      ],
      "execution_count": null,
      "outputs": [
        {
          "output_type": "execute_result",
          "data": {
            "text/plain": [
              "True"
            ]
          },
          "metadata": {
            "tags": []
          },
          "execution_count": 58
        }
      ]
    },
    {
      "cell_type": "code",
      "metadata": {
        "id": "C3w_FWE4Dyue",
        "colab": {
          "base_uri": "https://localhost:8080/",
          "height": 110
        },
        "outputId": "f071794f-1070-4ac9-d692-e5e39985a510"
      },
      "source": [
        "studenci_lista = [\"Igor_\"+str(nr) for nr in range(100)]\n",
        "print(studenci_lista)\n",
        "studenci_set = set (studenci_lista)\n",
        "print(studenci_set)\n",
        "\n",
        "powtarzanie = [\"Igor\" for el in range(1000)]\n",
        "print(powtarzanie)\n",
        "print(set(powtarzanie))"
      ],
      "execution_count": null,
      "outputs": [
        {
          "output_type": "stream",
          "text": [
            "['Igor_0', 'Igor_1', 'Igor_2', 'Igor_3', 'Igor_4', 'Igor_5', 'Igor_6', 'Igor_7', 'Igor_8', 'Igor_9', 'Igor_10', 'Igor_11', 'Igor_12', 'Igor_13', 'Igor_14', 'Igor_15', 'Igor_16', 'Igor_17', 'Igor_18', 'Igor_19', 'Igor_20', 'Igor_21', 'Igor_22', 'Igor_23', 'Igor_24', 'Igor_25', 'Igor_26', 'Igor_27', 'Igor_28', 'Igor_29', 'Igor_30', 'Igor_31', 'Igor_32', 'Igor_33', 'Igor_34', 'Igor_35', 'Igor_36', 'Igor_37', 'Igor_38', 'Igor_39', 'Igor_40', 'Igor_41', 'Igor_42', 'Igor_43', 'Igor_44', 'Igor_45', 'Igor_46', 'Igor_47', 'Igor_48', 'Igor_49', 'Igor_50', 'Igor_51', 'Igor_52', 'Igor_53', 'Igor_54', 'Igor_55', 'Igor_56', 'Igor_57', 'Igor_58', 'Igor_59', 'Igor_60', 'Igor_61', 'Igor_62', 'Igor_63', 'Igor_64', 'Igor_65', 'Igor_66', 'Igor_67', 'Igor_68', 'Igor_69', 'Igor_70', 'Igor_71', 'Igor_72', 'Igor_73', 'Igor_74', 'Igor_75', 'Igor_76', 'Igor_77', 'Igor_78', 'Igor_79', 'Igor_80', 'Igor_81', 'Igor_82', 'Igor_83', 'Igor_84', 'Igor_85', 'Igor_86', 'Igor_87', 'Igor_88', 'Igor_89', 'Igor_90', 'Igor_91', 'Igor_92', 'Igor_93', 'Igor_94', 'Igor_95', 'Igor_96', 'Igor_97', 'Igor_98', 'Igor_99']\n",
            "{'Igor_53', 'Igor_16', 'Igor_47', 'Igor_41', 'Igor_91', 'Igor_87', 'Igor_56', 'Igor_14', 'Igor_68', 'Igor_28', 'Igor_30', 'Igor_8', 'Igor_83', 'Igor_50', 'Igor_32', 'Igor_49', 'Igor_75', 'Igor_40', 'Igor_62', 'Igor_1', 'Igor_54', 'Igor_67', 'Igor_97', 'Igor_7', 'Igor_69', 'Igor_80', 'Igor_18', 'Igor_52', 'Igor_31', 'Igor_13', 'Igor_72', 'Igor_39', 'Igor_44', 'Igor_17', 'Igor_26', 'Igor_34', 'Igor_3', 'Igor_6', 'Igor_55', 'Igor_94', 'Igor_65', 'Igor_10', 'Igor_61', 'Igor_59', 'Igor_11', 'Igor_57', 'Igor_78', 'Igor_88', 'Igor_71', 'Igor_45', 'Igor_35', 'Igor_82', 'Igor_60', 'Igor_96', 'Igor_0', 'Igor_23', 'Igor_95', 'Igor_25', 'Igor_48', 'Igor_79', 'Igor_22', 'Igor_93', 'Igor_15', 'Igor_24', 'Igor_36', 'Igor_43', 'Igor_81', 'Igor_89', 'Igor_33', 'Igor_12', 'Igor_98', 'Igor_27', 'Igor_38', 'Igor_73', 'Igor_51', 'Igor_19', 'Igor_70', 'Igor_85', 'Igor_37', 'Igor_77', 'Igor_64', 'Igor_46', 'Igor_76', 'Igor_92', 'Igor_9', 'Igor_58', 'Igor_42', 'Igor_63', 'Igor_2', 'Igor_99', 'Igor_90', 'Igor_84', 'Igor_4', 'Igor_5', 'Igor_21', 'Igor_20', 'Igor_66', 'Igor_86', 'Igor_74', 'Igor_29'}\n",
            "['Igor', 'Igor', 'Igor', 'Igor', 'Igor', 'Igor', 'Igor', 'Igor', 'Igor', 'Igor', 'Igor', 'Igor', 'Igor', 'Igor', 'Igor', 'Igor', 'Igor', 'Igor', 'Igor', 'Igor', 'Igor', 'Igor', 'Igor', 'Igor', 'Igor', 'Igor', 'Igor', 'Igor', 'Igor', 'Igor', 'Igor', 'Igor', 'Igor', 'Igor', 'Igor', 'Igor', 'Igor', 'Igor', 'Igor', 'Igor', 'Igor', 'Igor', 'Igor', 'Igor', 'Igor', 'Igor', 'Igor', 'Igor', 'Igor', 'Igor', 'Igor', 'Igor', 'Igor', 'Igor', 'Igor', 'Igor', 'Igor', 'Igor', 'Igor', 'Igor', 'Igor', 'Igor', 'Igor', 'Igor', 'Igor', 'Igor', 'Igor', 'Igor', 'Igor', 'Igor', 'Igor', 'Igor', 'Igor', 'Igor', 'Igor', 'Igor', 'Igor', 'Igor', 'Igor', 'Igor', 'Igor', 'Igor', 'Igor', 'Igor', 'Igor', 'Igor', 'Igor', 'Igor', 'Igor', 'Igor', 'Igor', 'Igor', 'Igor', 'Igor', 'Igor', 'Igor', 'Igor', 'Igor', 'Igor', 'Igor', 'Igor', 'Igor', 'Igor', 'Igor', 'Igor', 'Igor', 'Igor', 'Igor', 'Igor', 'Igor', 'Igor', 'Igor', 'Igor', 'Igor', 'Igor', 'Igor', 'Igor', 'Igor', 'Igor', 'Igor', 'Igor', 'Igor', 'Igor', 'Igor', 'Igor', 'Igor', 'Igor', 'Igor', 'Igor', 'Igor', 'Igor', 'Igor', 'Igor', 'Igor', 'Igor', 'Igor', 'Igor', 'Igor', 'Igor', 'Igor', 'Igor', 'Igor', 'Igor', 'Igor', 'Igor', 'Igor', 'Igor', 'Igor', 'Igor', 'Igor', 'Igor', 'Igor', 'Igor', 'Igor', 'Igor', 'Igor', 'Igor', 'Igor', 'Igor', 'Igor', 'Igor', 'Igor', 'Igor', 'Igor', 'Igor', 'Igor', 'Igor', 'Igor', 'Igor', 'Igor', 'Igor', 'Igor', 'Igor', 'Igor', 'Igor', 'Igor', 'Igor', 'Igor', 'Igor', 'Igor', 'Igor', 'Igor', 'Igor', 'Igor', 'Igor', 'Igor', 'Igor', 'Igor', 'Igor', 'Igor', 'Igor', 'Igor', 'Igor', 'Igor', 'Igor', 'Igor', 'Igor', 'Igor', 'Igor', 'Igor', 'Igor', 'Igor', 'Igor', 'Igor', 'Igor', 'Igor', 'Igor', 'Igor', 'Igor', 'Igor', 'Igor', 'Igor', 'Igor', 'Igor', 'Igor', 'Igor', 'Igor', 'Igor', 'Igor', 'Igor', 'Igor', 'Igor', 'Igor', 'Igor', 'Igor', 'Igor', 'Igor', 'Igor', 'Igor', 'Igor', 'Igor', 'Igor', 'Igor', 'Igor', 'Igor', 'Igor', 'Igor', 'Igor', 'Igor', 'Igor', 'Igor', 'Igor', 'Igor', 'Igor', 'Igor', 'Igor', 'Igor', 'Igor', 'Igor', 'Igor', 'Igor', 'Igor', 'Igor', 'Igor', 'Igor', 'Igor', 'Igor', 'Igor', 'Igor', 'Igor', 'Igor', 'Igor', 'Igor', 'Igor', 'Igor', 'Igor', 'Igor', 'Igor', 'Igor', 'Igor', 'Igor', 'Igor', 'Igor', 'Igor', 'Igor', 'Igor', 'Igor', 'Igor', 'Igor', 'Igor', 'Igor', 'Igor', 'Igor', 'Igor', 'Igor', 'Igor', 'Igor', 'Igor', 'Igor', 'Igor', 'Igor', 'Igor', 'Igor', 'Igor', 'Igor', 'Igor', 'Igor', 'Igor', 'Igor', 'Igor', 'Igor', 'Igor', 'Igor', 'Igor', 'Igor', 'Igor', 'Igor', 'Igor', 'Igor', 'Igor', 'Igor', 'Igor', 'Igor', 'Igor', 'Igor', 'Igor', 'Igor', 'Igor', 'Igor', 'Igor', 'Igor', 'Igor', 'Igor', 'Igor', 'Igor', 'Igor', 'Igor', 'Igor', 'Igor', 'Igor', 'Igor', 'Igor', 'Igor', 'Igor', 'Igor', 'Igor', 'Igor', 'Igor', 'Igor', 'Igor', 'Igor', 'Igor', 'Igor', 'Igor', 'Igor', 'Igor', 'Igor', 'Igor', 'Igor', 'Igor', 'Igor', 'Igor', 'Igor', 'Igor', 'Igor', 'Igor', 'Igor', 'Igor', 'Igor', 'Igor', 'Igor', 'Igor', 'Igor', 'Igor', 'Igor', 'Igor', 'Igor', 'Igor', 'Igor', 'Igor', 'Igor', 'Igor', 'Igor', 'Igor', 'Igor', 'Igor', 'Igor', 'Igor', 'Igor', 'Igor', 'Igor', 'Igor', 'Igor', 'Igor', 'Igor', 'Igor', 'Igor', 'Igor', 'Igor', 'Igor', 'Igor', 'Igor', 'Igor', 'Igor', 'Igor', 'Igor', 'Igor', 'Igor', 'Igor', 'Igor', 'Igor', 'Igor', 'Igor', 'Igor', 'Igor', 'Igor', 'Igor', 'Igor', 'Igor', 'Igor', 'Igor', 'Igor', 'Igor', 'Igor', 'Igor', 'Igor', 'Igor', 'Igor', 'Igor', 'Igor', 'Igor', 'Igor', 'Igor', 'Igor', 'Igor', 'Igor', 'Igor', 'Igor', 'Igor', 'Igor', 'Igor', 'Igor', 'Igor', 'Igor', 'Igor', 'Igor', 'Igor', 'Igor', 'Igor', 'Igor', 'Igor', 'Igor', 'Igor', 'Igor', 'Igor', 'Igor', 'Igor', 'Igor', 'Igor', 'Igor', 'Igor', 'Igor', 'Igor', 'Igor', 'Igor', 'Igor', 'Igor', 'Igor', 'Igor', 'Igor', 'Igor', 'Igor', 'Igor', 'Igor', 'Igor', 'Igor', 'Igor', 'Igor', 'Igor', 'Igor', 'Igor', 'Igor', 'Igor', 'Igor', 'Igor', 'Igor', 'Igor', 'Igor', 'Igor', 'Igor', 'Igor', 'Igor', 'Igor', 'Igor', 'Igor', 'Igor', 'Igor', 'Igor', 'Igor', 'Igor', 'Igor', 'Igor', 'Igor', 'Igor', 'Igor', 'Igor', 'Igor', 'Igor', 'Igor', 'Igor', 'Igor', 'Igor', 'Igor', 'Igor', 'Igor', 'Igor', 'Igor', 'Igor', 'Igor', 'Igor', 'Igor', 'Igor', 'Igor', 'Igor', 'Igor', 'Igor', 'Igor', 'Igor', 'Igor', 'Igor', 'Igor', 'Igor', 'Igor', 'Igor', 'Igor', 'Igor', 'Igor', 'Igor', 'Igor', 'Igor', 'Igor', 'Igor', 'Igor', 'Igor', 'Igor', 'Igor', 'Igor', 'Igor', 'Igor', 'Igor', 'Igor', 'Igor', 'Igor', 'Igor', 'Igor', 'Igor', 'Igor', 'Igor', 'Igor', 'Igor', 'Igor', 'Igor', 'Igor', 'Igor', 'Igor', 'Igor', 'Igor', 'Igor', 'Igor', 'Igor', 'Igor', 'Igor', 'Igor', 'Igor', 'Igor', 'Igor', 'Igor', 'Igor', 'Igor', 'Igor', 'Igor', 'Igor', 'Igor', 'Igor', 'Igor', 'Igor', 'Igor', 'Igor', 'Igor', 'Igor', 'Igor', 'Igor', 'Igor', 'Igor', 'Igor', 'Igor', 'Igor', 'Igor', 'Igor', 'Igor', 'Igor', 'Igor', 'Igor', 'Igor', 'Igor', 'Igor', 'Igor', 'Igor', 'Igor', 'Igor', 'Igor', 'Igor', 'Igor', 'Igor', 'Igor', 'Igor', 'Igor', 'Igor', 'Igor', 'Igor', 'Igor', 'Igor', 'Igor', 'Igor', 'Igor', 'Igor', 'Igor', 'Igor', 'Igor', 'Igor', 'Igor', 'Igor', 'Igor', 'Igor', 'Igor', 'Igor', 'Igor', 'Igor', 'Igor', 'Igor', 'Igor', 'Igor', 'Igor', 'Igor', 'Igor', 'Igor', 'Igor', 'Igor', 'Igor', 'Igor', 'Igor', 'Igor', 'Igor', 'Igor', 'Igor', 'Igor', 'Igor', 'Igor', 'Igor', 'Igor', 'Igor', 'Igor', 'Igor', 'Igor', 'Igor', 'Igor', 'Igor', 'Igor', 'Igor', 'Igor', 'Igor', 'Igor', 'Igor', 'Igor', 'Igor', 'Igor', 'Igor', 'Igor', 'Igor', 'Igor', 'Igor', 'Igor', 'Igor', 'Igor', 'Igor', 'Igor', 'Igor', 'Igor', 'Igor', 'Igor', 'Igor', 'Igor', 'Igor', 'Igor', 'Igor', 'Igor', 'Igor', 'Igor', 'Igor', 'Igor', 'Igor', 'Igor', 'Igor', 'Igor', 'Igor', 'Igor', 'Igor', 'Igor', 'Igor', 'Igor', 'Igor', 'Igor', 'Igor', 'Igor', 'Igor', 'Igor', 'Igor', 'Igor', 'Igor', 'Igor', 'Igor', 'Igor', 'Igor', 'Igor', 'Igor', 'Igor', 'Igor', 'Igor', 'Igor', 'Igor', 'Igor', 'Igor', 'Igor', 'Igor', 'Igor', 'Igor', 'Igor', 'Igor', 'Igor', 'Igor', 'Igor', 'Igor', 'Igor', 'Igor', 'Igor', 'Igor', 'Igor', 'Igor', 'Igor', 'Igor', 'Igor', 'Igor', 'Igor', 'Igor', 'Igor', 'Igor', 'Igor', 'Igor', 'Igor', 'Igor', 'Igor', 'Igor', 'Igor', 'Igor', 'Igor', 'Igor', 'Igor', 'Igor', 'Igor', 'Igor', 'Igor', 'Igor', 'Igor', 'Igor', 'Igor', 'Igor', 'Igor', 'Igor', 'Igor', 'Igor', 'Igor', 'Igor', 'Igor', 'Igor', 'Igor', 'Igor', 'Igor', 'Igor', 'Igor', 'Igor', 'Igor', 'Igor', 'Igor', 'Igor', 'Igor', 'Igor', 'Igor', 'Igor', 'Igor', 'Igor', 'Igor', 'Igor', 'Igor', 'Igor', 'Igor', 'Igor', 'Igor', 'Igor', 'Igor', 'Igor', 'Igor', 'Igor', 'Igor', 'Igor', 'Igor', 'Igor', 'Igor', 'Igor', 'Igor', 'Igor', 'Igor', 'Igor', 'Igor', 'Igor', 'Igor', 'Igor', 'Igor', 'Igor', 'Igor', 'Igor', 'Igor', 'Igor', 'Igor', 'Igor', 'Igor', 'Igor', 'Igor', 'Igor', 'Igor', 'Igor', 'Igor', 'Igor', 'Igor', 'Igor', 'Igor', 'Igor', 'Igor', 'Igor', 'Igor', 'Igor', 'Igor', 'Igor', 'Igor', 'Igor', 'Igor', 'Igor', 'Igor', 'Igor', 'Igor', 'Igor', 'Igor', 'Igor', 'Igor', 'Igor', 'Igor', 'Igor', 'Igor', 'Igor', 'Igor', 'Igor', 'Igor', 'Igor', 'Igor', 'Igor', 'Igor', 'Igor', 'Igor', 'Igor', 'Igor', 'Igor', 'Igor', 'Igor', 'Igor', 'Igor', 'Igor', 'Igor', 'Igor', 'Igor', 'Igor', 'Igor', 'Igor', 'Igor', 'Igor', 'Igor', 'Igor', 'Igor', 'Igor', 'Igor', 'Igor', 'Igor', 'Igor', 'Igor', 'Igor', 'Igor', 'Igor', 'Igor', 'Igor', 'Igor', 'Igor', 'Igor', 'Igor', 'Igor', 'Igor', 'Igor', 'Igor', 'Igor', 'Igor', 'Igor', 'Igor', 'Igor', 'Igor', 'Igor', 'Igor', 'Igor', 'Igor', 'Igor', 'Igor', 'Igor', 'Igor', 'Igor', 'Igor', 'Igor', 'Igor', 'Igor', 'Igor', 'Igor', 'Igor', 'Igor', 'Igor', 'Igor', 'Igor', 'Igor', 'Igor', 'Igor', 'Igor', 'Igor', 'Igor', 'Igor', 'Igor', 'Igor', 'Igor', 'Igor', 'Igor', 'Igor', 'Igor', 'Igor', 'Igor', 'Igor', 'Igor', 'Igor', 'Igor', 'Igor', 'Igor', 'Igor', 'Igor', 'Igor', 'Igor', 'Igor', 'Igor', 'Igor', 'Igor', 'Igor', 'Igor', 'Igor', 'Igor', 'Igor', 'Igor', 'Igor', 'Igor', 'Igor', 'Igor', 'Igor', 'Igor', 'Igor', 'Igor', 'Igor', 'Igor', 'Igor', 'Igor', 'Igor', 'Igor', 'Igor', 'Igor', 'Igor', 'Igor', 'Igor', 'Igor', 'Igor', 'Igor', 'Igor', 'Igor', 'Igor', 'Igor', 'Igor', 'Igor', 'Igor', 'Igor', 'Igor', 'Igor', 'Igor']\n",
            "{'Igor'}\n"
          ],
          "name": "stdout"
        }
      ]
    },
    {
      "cell_type": "code",
      "metadata": {
        "id": "fB2eWDJOG9kO",
        "colab": {
          "base_uri": "https://localhost:8080/",
          "height": 54
        },
        "outputId": "5776fe69-b341-4501-ed28-88f1c6065b12"
      },
      "source": [
        "%%timeit \n",
        "#udowadniamy, że przeszukiwanie set jest szybsze niż listy\n",
        "jest = \"Igor_999\" in studenci_lista "
      ],
      "execution_count": null,
      "outputs": [
        {
          "output_type": "stream",
          "text": [
            "The slowest run took 5.97 times longer than the fastest. This could mean that an intermediate result is being cached.\n",
            "1000000 loops, best of 3: 1.02 µs per loop\n"
          ],
          "name": "stdout"
        }
      ]
    },
    {
      "cell_type": "code",
      "metadata": {
        "id": "Gf94w9fvHm61",
        "colab": {
          "base_uri": "https://localhost:8080/",
          "height": 54
        },
        "outputId": "a5761dd9-007f-4ea5-e532-7e6ccd4286c7"
      },
      "source": [
        "%%timeit \n",
        "#udowadniamy, że przeszukiwanie set jest szybsze niż listy\n",
        "jest = \"Igor_999\" in studenci_set"
      ],
      "execution_count": null,
      "outputs": [
        {
          "output_type": "stream",
          "text": [
            "The slowest run took 43.69 times longer than the fastest. This could mean that an intermediate result is being cached.\n",
            "10000000 loops, best of 3: 33.7 ns per loop\n"
          ],
          "name": "stdout"
        }
      ]
    },
    {
      "cell_type": "markdown",
      "metadata": {
        "id": "cvPFtjEoz_aV"
      },
      "source": [
        "### Własne typy"
      ]
    },
    {
      "cell_type": "code",
      "metadata": {
        "id": "hzHS8icxz_aW"
      },
      "source": [
        "zajecia = [[\"wf\"],\n",
        "           [\"informatyka\", \"nauka czytania\"],\n",
        "           [\"relax\", \"jedzenie\"],\n",
        "           [\"mispy\",\"mispy w domu\"],\n",
        "           [\"piateczek\", \"praca domowa z mispow\", \"Ilovemispy\", \"mispy w czasie snu\"]\n",
        "          ]\n",
        "\n",
        "dnityg= [\"Pon\",\"Wto\",\"Sro\",\"Czwar\",\"Pio\"]\n",
        "\n",
        "def dodaj_dwie_liczby(liczba1,liczba2):\n",
        "    return liczba1+liczba2"
      ],
      "execution_count": null,
      "outputs": []
    },
    {
      "cell_type": "code",
      "metadata": {
        "id": "SCTckIv5y6O7",
        "colab": {
          "base_uri": "https://localhost:8080/",
          "height": 35
        },
        "outputId": "564de41f-29f3-431b-a7ac-d4c68667ddea"
      },
      "source": [
        "class Pelna():\n",
        "  nazwa = \"stała\"\n",
        "  pass\n",
        "\n",
        "Pustostan = Pelna()\n",
        "\n",
        "type(Pustostan)\n",
        "print(Pustostan.nazwa)"
      ],
      "execution_count": null,
      "outputs": [
        {
          "output_type": "stream",
          "text": [
            "stała\n"
          ],
          "name": "stdout"
        }
      ]
    },
    {
      "cell_type": "code",
      "metadata": {
        "id": "OZMvyulWz_aa"
      },
      "source": [
        "class DzienZajec():\n",
        "    \"\"\"obiekt trzymający dany dzień zajęć i przypisane mu metody\"\"\"\n",
        "    autor = \"Paweł\"\n",
        "    \n",
        "    def __init__(self, lista_na_dany_dzien, nazwa_dnia): #definicja\n",
        "        self.lista_zajec = lista_na_dany_dzien\n",
        "        self.dzien = nazwa_dnia\n",
        "        \n",
        "    def ile_mispow(self):\n",
        "        ile_m = sum([1 for zajecie in self.lista_zajec if \"misp\" in zajecie.lower()])\n",
        "        return ile_m\n",
        "\n",
        "    @property #zamienia na wlasciwosc   \n",
        "    def ile_zajec(self):\n",
        "        return len(self.lista_zajec)\n",
        "    \n",
        "    def __repr__(self):\n",
        "        zajecia_do_stringa = \", \".join(self.lista_zajec)\n",
        "        return \"W dzien {} mam zajecia: {}\".format(self.dzien, zajecia_do_stringa)\n",
        "    "
      ],
      "execution_count": null,
      "outputs": []
    },
    {
      "cell_type": "code",
      "metadata": {
        "id": "9XELeBtbA5jy",
        "colab": {
          "base_uri": "https://localhost:8080/",
          "height": 35
        },
        "outputId": "8455bf29-ddf0-48fe-b2e8-d6c6c0e118e6"
      },
      "source": [
        ""
      ],
      "execution_count": null,
      "outputs": [
        {
          "output_type": "execute_result",
          "data": {
            "text/plain": [
              "<function __main__.DzienZajec.ile_mispow>"
            ]
          },
          "metadata": {
            "tags": []
          },
          "execution_count": 88
        }
      ]
    },
    {
      "cell_type": "code",
      "metadata": {
        "id": "XKwgrgiwt7D4"
      },
      "source": [
        "class DzienZajecFanatykaMispow(DzienZajec):\n",
        "  def kocham_mispy(self):\n",
        "    print(\"tak bardzo kocham mispy\")"
      ],
      "execution_count": null,
      "outputs": []
    },
    {
      "cell_type": "code",
      "metadata": {
        "id": "NePN6n8-z_af",
        "colab": {
          "base_uri": "https://localhost:8080/",
          "height": 35
        },
        "outputId": "4934ecdb-1d12-4298-810e-25e079e51771"
      },
      "source": [
        "pio_zajecia = DzienZajecFanatykaMispow([\"piateczek\", \"praca domowa z mispow\", \"Ilovemispy\", \"mispy w czasie snu\"],\n",
        "                        \"piatek\")\n",
        "\n",
        "type(pio_zajecia)\n",
        "pio_zajecia.kocham_mispy"
      ],
      "execution_count": null,
      "outputs": [
        {
          "output_type": "execute_result",
          "data": {
            "text/plain": [
              "<bound method DzienZajecFanatykaMispow.kocham_mispy of W dzien piatek mam zajecia: piateczek, praca domowa z mispow, Ilovemispy, mispy w czasie snu>"
            ]
          },
          "metadata": {
            "tags": []
          },
          "execution_count": 66
        }
      ]
    },
    {
      "cell_type": "code",
      "metadata": {
        "id": "Ca-fd83_n0Rd",
        "colab": {
          "base_uri": "https://localhost:8080/",
          "height": 36
        },
        "outputId": "72e0c29c-99dd-4f2e-cdff-36edbd03bd80"
      },
      "source": [
        "pio_zajecia.dzien"
      ],
      "execution_count": null,
      "outputs": [
        {
          "output_type": "execute_result",
          "data": {
            "application/vnd.google.colaboratory.intrinsic+json": {
              "type": "string"
            },
            "text/plain": [
              "'piatek'"
            ]
          },
          "metadata": {
            "tags": []
          },
          "execution_count": 67
        }
      ]
    },
    {
      "cell_type": "code",
      "metadata": {
        "id": "OVDYhS34z_ak",
        "colab": {
          "base_uri": "https://localhost:8080/",
          "height": 35
        },
        "outputId": "0a351e32-df8d-4504-968d-5b8e330240a0"
      },
      "source": [
        "pio_zajecia.ile_zajec"
      ],
      "execution_count": null,
      "outputs": [
        {
          "output_type": "execute_result",
          "data": {
            "text/plain": [
              "4"
            ]
          },
          "metadata": {
            "tags": []
          },
          "execution_count": 68
        }
      ]
    },
    {
      "cell_type": "code",
      "metadata": {
        "id": "lfa6cwdEz_ao",
        "colab": {
          "base_uri": "https://localhost:8080/",
          "height": 35
        },
        "outputId": "46781d61-64c5-4c11-c0a1-8608bb6542ef"
      },
      "source": [
        "print(pio_zajecia)"
      ],
      "execution_count": null,
      "outputs": [
        {
          "output_type": "stream",
          "text": [
            "W dzien piatek mam zajecia: piateczek, praca domowa z mispow, Ilovemispy, mispy w czasie snu\n"
          ],
          "name": "stdout"
        }
      ]
    },
    {
      "cell_type": "code",
      "metadata": {
        "id": "qHdHnS1Pz_a4",
        "colab": {
          "base_uri": "https://localhost:8080/",
          "height": 35
        },
        "outputId": "fae17bf0-da97-49b9-9a3b-02f13780fcb9"
      },
      "source": [
        "pio_zajecia.lista_zajec"
      ],
      "execution_count": null,
      "outputs": [
        {
          "output_type": "execute_result",
          "data": {
            "text/plain": [
              "['piateczek', 'praca domowa z mispow', 'Ilovemispy', 'mispy w czasie snu']"
            ]
          },
          "metadata": {
            "tags": []
          },
          "execution_count": 70
        }
      ]
    },
    {
      "cell_type": "code",
      "metadata": {
        "id": "onRtRlcjz_a9",
        "colab": {
          "base_uri": "https://localhost:8080/",
          "height": 35
        },
        "outputId": "14011024-a193-4217-c7e7-f099b96b24aa"
      },
      "source": [
        "pio_zajecia.lista_zajec.append(\"MISP\")\n",
        "print(pio_zajecia.lista_zajec)"
      ],
      "execution_count": null,
      "outputs": [
        {
          "output_type": "stream",
          "text": [
            "['piateczek', 'praca domowa z mispow', 'Ilovemispy', 'mispy w czasie snu', 'MISP']\n"
          ],
          "name": "stdout"
        }
      ]
    },
    {
      "cell_type": "code",
      "metadata": {
        "id": "9dBGnxWUz_bA",
        "colab": {
          "base_uri": "https://localhost:8080/",
          "height": 35
        },
        "outputId": "b9a49536-11f7-473d-e118-0665eab29279"
      },
      "source": [
        "pio_zajecia.ile_mispow()"
      ],
      "execution_count": null,
      "outputs": [
        {
          "output_type": "execute_result",
          "data": {
            "text/plain": [
              "4"
            ]
          },
          "metadata": {
            "tags": []
          },
          "execution_count": 72
        }
      ]
    },
    {
      "cell_type": "code",
      "metadata": {
        "id": "eBfLD3Zdz_bH",
        "colab": {
          "base_uri": "https://localhost:8080/",
          "height": 35
        },
        "outputId": "7f4a321a-49ce-48e0-9bb7-9db314fd5075"
      },
      "source": [
        "print(pio_zajecia.lista_zajec)\n"
      ],
      "execution_count": null,
      "outputs": [
        {
          "output_type": "stream",
          "text": [
            "['piateczek', 'praca domowa z mispow', 'Ilovemispy', 'mispy w czasie snu', 'MISP']\n"
          ],
          "name": "stdout"
        }
      ]
    },
    {
      "cell_type": "code",
      "metadata": {
        "id": "nNSp8XtDz_bM",
        "colab": {
          "base_uri": "https://localhost:8080/",
          "height": 35
        },
        "outputId": "a28323e4-b312-44c6-db23-29f71a0cf3b7"
      },
      "source": [
        "pio_zajecia"
      ],
      "execution_count": null,
      "outputs": [
        {
          "output_type": "execute_result",
          "data": {
            "text/plain": [
              "W dzien piatek mam zajecia: piateczek, praca domowa z mispow, Ilovemispy, mispy w czasie snu, MISP"
            ]
          },
          "metadata": {
            "tags": []
          },
          "execution_count": 74
        }
      ]
    },
    {
      "cell_type": "code",
      "metadata": {
        "id": "4-XBPw4Az_bP",
        "colab": {
          "base_uri": "https://localhost:8080/",
          "height": 35
        },
        "outputId": "83b6928a-ec71-4f59-f022-8ce810a3c441"
      },
      "source": [
        "print(pio_zajecia.ile_zajec)"
      ],
      "execution_count": null,
      "outputs": [
        {
          "output_type": "stream",
          "text": [
            "5\n"
          ],
          "name": "stdout"
        }
      ]
    },
    {
      "cell_type": "code",
      "metadata": {
        "id": "3dKxLw09z_bU"
      },
      "source": [
        "lista_zajec= [DzienZajec(lista_dzien, dzien) for lista_dzien, dzien in \n",
        "             zip(zajecia,dnityg)]"
      ],
      "execution_count": null,
      "outputs": []
    },
    {
      "cell_type": "code",
      "metadata": {
        "id": "-oLcGsBkz_bZ",
        "colab": {
          "base_uri": "https://localhost:8080/",
          "height": 109
        },
        "outputId": "3f142f37-e054-474a-8921-8d3a2a9a4b98"
      },
      "source": [
        "for dzien_zajec in lista_zajec:\n",
        "  print(dzien_zajec) "
      ],
      "execution_count": null,
      "outputs": [
        {
          "output_type": "stream",
          "text": [
            "W dzien Pon mam zajecia: wf\n",
            "W dzien Wto mam zajecia: informatyka, nauka czytania\n",
            "W dzien Sro mam zajecia: relax, jedzenie\n",
            "W dzien Czwar mam zajecia: mispy, mispy w domu\n",
            "W dzien Pio mam zajecia: piateczek, praca domowa z mispow, Ilovemispy, mispy w czasie snu\n"
          ],
          "name": "stdout"
        }
      ]
    },
    {
      "cell_type": "code",
      "metadata": {
        "id": "BLuQwS7Fz_bc"
      },
      "source": [
        "posortowane_po_zajeciach=sorted(lista_zajec, key= lambda zajecie: zajecie.ile_zajec)\n",
        "posortowane_po_mispach=sorted(lista_zajec, key= lambda zajecie: zajecie.ile_mispow())"
      ],
      "execution_count": null,
      "outputs": []
    },
    {
      "cell_type": "code",
      "metadata": {
        "id": "whozW8f3z_bf",
        "colab": {
          "base_uri": "https://localhost:8080/",
          "height": 55
        },
        "outputId": "a063cdee-1919-4983-cf50-3674cf3bba63"
      },
      "source": [
        "print(posortowane_po_zajeciach)"
      ],
      "execution_count": null,
      "outputs": [
        {
          "output_type": "stream",
          "text": [
            "[W dzien Pon mam zajecia: wf, W dzien Wto mam zajecia: informatyka, nauka czytania, W dzien Sro mam zajecia: relax, jedzenie, W dzien Czwar mam zajecia: mispy, mispy w domu, W dzien Pio mam zajecia: piateczek, praca domowa z mispow, Ilovemispy, mispy w czasie snu]\n"
          ],
          "name": "stdout"
        }
      ]
    },
    {
      "cell_type": "code",
      "metadata": {
        "id": "6MtlLirdz_bh",
        "colab": {
          "base_uri": "https://localhost:8080/",
          "height": 55
        },
        "outputId": "b6e9d37d-463d-4df0-ac7b-66f736a77b80"
      },
      "source": [
        "print(posortowane_po_mispach)"
      ],
      "execution_count": null,
      "outputs": [
        {
          "output_type": "stream",
          "text": [
            "[W dzien Pon mam zajecia: wf, W dzien Wto mam zajecia: informatyka, nauka czytania, W dzien Sro mam zajecia: relax, jedzenie, W dzien Czwar mam zajecia: mispy, mispy w domu, W dzien Pio mam zajecia: piateczek, praca domowa z mispow, Ilovemispy, mispy w czasie snu]\n"
          ],
          "name": "stdout"
        }
      ]
    },
    {
      "cell_type": "markdown",
      "metadata": {
        "id": "WXZKfpkHz_bl"
      },
      "source": [
        "##### challenge 1\n",
        "\n",
        "Stworz typ NumerTelefonu\n",
        "\n",
        " -- przy tworzeniu sprawdza czy właściwy numer (Polski) jeśli nie pisze, że error (ew. Exception)\n",
        " \n",
        " -- gdy printuję to mi pisze polskimi słowami i.e. \"jeden, pięć, siedem, zero\"\n",
        " \n",
        " -- gdy wywołuję właściwość wojewodzwtwo, podaje mi wojewodztwo ew. ze to komorkowy\n",
        " \n",
        " "
      ]
    },
    {
      "cell_type": "code",
      "metadata": {
        "id": "YWwUtifvz_bm"
      },
      "source": [
        "# ma na takie rzeczy być w stanie odpowiedzieć\n",
        "class Numer_Tel:\n",
        "  autor = \"Paweł_Maciejewski\"\n",
        "  indeks = 218021\n",
        "  #numer_telefonu = 0\n",
        "  slownie = { \"0\": \"zero\", \n",
        "              \"1\": \"jeden\", \n",
        "              \"2\": \"dwa\", \n",
        "              \"3\": \"trzy\", \n",
        "              \"4\": \"cztery\", \n",
        "              \"5\": \"piec\", \n",
        "              \"6\": \"szesc\", \n",
        "              \"7\": \"siedem\", \n",
        "              \"8\": \"osiem\", \n",
        "              \"9\": \"dziewiec\" }\n",
        "  ksiazka_telefoniczna_miast = {  \"75\":\"Dolnośląskie - Jelenia Góra\",\n",
        "                                  \"76\":\"Dolnośląskie - Legnica\",\n",
        "                                  \"74\":\"Dolnośląskie - Wałbrzych\", \n",
        "                                  \"71\":\"Dolnośląskie - Wrocław\",\n",
        "                                  \"52\":\"Kujawsko-Pomorskie - Bydgoszcz\",\n",
        "                                  \"56\":\"Kujawsko-Pomorskie - Toruń\", \n",
        "                                  \"54\":\"Kujawsko-Pomorskie - Włocławek\", \n",
        "                                  \"83\":\"Lubelskie - Biała Podlaska\", \n",
        "                                  \"82\":\"Lubelskie - Chełm\",\n",
        "                                  \"81\":\"Lubelskie - Lublin\",\n",
        "                                  \"84\":\"Lubelskie - Zamość\",\n",
        "                                  \"95\":\"Lubuskie - Gorzów Wielkopolski\",\n",
        "                                  \"68\":\"Lubuskie - Zielona Góra\", \n",
        "                                  \"42\":\"Łódzkie - Łódź\",\n",
        "                                  \"44\":\"Łódzkie - Piotrków Trybunalski\",\n",
        "                                  \"43\":\"Łódzkie - Sieradz\",\n",
        "                                  \"46\":\"Łódzkie - Skierniewice\",\n",
        "                                  \"12\":\"Małopolskie - Kraków\", \n",
        "                                  \"18\":\"Małopolskie - Nowy Sącz\",\n",
        "                                  \"14\":\"Małopolskie - Tarnów\",\n",
        "                                  \"23\":\"Mazowieckie - Ciechanów\",\n",
        "                                  \"29\":\"Mazowieckie - Ostrołęka\",\n",
        "                                  \"24\":\"Mazowieckie - Płock\",\n",
        "                                  \"48\":\"Mazowieckie - Radom\",\n",
        "                                  \"25\":\"Mazowieckie - Siedlce\", \n",
        "                                  \"22\":\"Mazowieckie - Warszawa\", \n",
        "                                  \"77\":\"Opolskie - Opole\",\n",
        "                                  \"13\":\"Podkarpackie - Krosno\",\n",
        "                                  \"16\":\"Podkarpackie - Przemyśl\",\n",
        "                                  \"17\":\"Podkarpackie - Rzeszów\",\n",
        "                                  \"15\":\"Podkarpackie - Tarnobrzeg\",\n",
        "                                  \"85\":\"Podlaskie - Białystok\", \n",
        "                                  \"86\":\"Podlaskie - Łomża\", \n",
        "                                  \"87\":\"Podlaskie - Suwałki\",\n",
        "                                  \"58\":\"Pomorskie - Gdańsk\",\n",
        "                                  \"59\":\"Pomorskie - Słupsk\",\n",
        "                                  \"33\":\"Śląskie - Bielsko Biała\",\n",
        "                                  \"34\":\"Śląskie - Częstochowa\",\n",
        "                                  \"32\":\"Śląskie - Katowice\",\n",
        "                                  \"41\":\"Świętokrzyskie - Kielce\",\n",
        "                                  \"55\":\"Warmińsko-Mazurskie - Elbląg\",\n",
        "                                  \"89\":\"Warmińsko-Mazurskie - Olsztyn\",\n",
        "                                  \"62\":\"Wielkopolskie - Kalisz\",\n",
        "                                  \"63\":\"Wielkopolskie - Konin\",\n",
        "                                  \"65\":\"Wielkopolskie - Leszno\",\n",
        "                                  \"67\":\"Wielkopolskie - Piła\",\n",
        "                                  \"61\":\"Wielkopolskie - Poznań\",\n",
        "                                  \"94\":\"Zachodnio-Pomorskie - Koszalin\",\n",
        "                                  \"91\":\"Zachodnio-Pomorskie - Szczecin\"}\n",
        "  ksiazka_telefoniczna_polska = { \"48\": \"Polska\"  }\n",
        "  ksiazka_telefoniczna_inne = { \"00\": \"Tanzania\",\n",
        "                               \"01\": \"Mongolia\",\n",
        "                               \"11\": \"USA\",\n",
        "                               \"10\": \"Japonia\",\n",
        "                               \"011\": \"Australia\", \n",
        "                               \"09\": \"Nigeria\",\n",
        "                               \"810\": \"kraje poradzieckie(Rosja, Kazachstan, Turkmenistan)\",\n",
        "                               \"119\": \"Kuba\"}\n",
        "  def __init__(self, numer_telefonu):\n",
        "    if (len(numer_telefonu) > 11):\n",
        "            print(\"Błędna długość numeru\")\n",
        "            self.numer_telefonu = \"error\"\n",
        "    elif (len(numer_telefonu) == 11):\n",
        "            print(\"Prawidłowy numer telefonu z prefixami\")\n",
        "            self.numer_telefonu = numer_telefonu\n",
        "    elif (len(numer_telefonu) == 9):\n",
        "            print(\"Telefon komórkowy\")\n",
        "            self.numer_telefonu = \"error\"\n",
        "    else:\n",
        "            print(\"Nieprawidłowy numer telefonu\")\n",
        "            self.numer_telefonu = numer_telefonu \n",
        "            self.numer_telefonu = \"error\"\n",
        "  \n",
        "  def panstwa(self):\n",
        "    Pocz_Numer = self.numer_telefonu[0:2]\n",
        "    if (Pocz_Numer in self.ksiazka_telefoniczna_polska):\n",
        "            print(\"Ten numer jest polski\")\n",
        "            return self.ksiazka_telefoniczna_polska[Pocz_Numer]\n",
        "    elif (Pocz_Numer in self.ksiazka_telefoniczna_inne):\n",
        "            print(\"Ten numer nie jest polski\")\n",
        "            return self.ksiazka_telefoniczna_inne[Pocz_Numer]\n",
        "    else:\n",
        "            print(\"Nie rozpoznano numeru\")\n",
        "\n",
        "  def wojewodztwa(self):\n",
        "    Numer = self.numer_telefonu[2:4]\n",
        "    if (Numer in self.ksiazka_telefoniczna_miast):\n",
        "      return self.ksiazka_telefoniczna_miast[Numer]\n",
        "    else:\n",
        "      print(\"Ten numer jest nieznany\")\n",
        "  \n",
        "  def __repr__(self):\n",
        "        if (self.numer_telefonu == \"error\"):\n",
        "            return \"Błędny numer\"\n",
        "        else:\n",
        "            return (\", \".join([self.slownie[cyfra] for cyfra in self.numer_telefonu]))\n"
      ],
      "execution_count": null,
      "outputs": []
    },
    {
      "cell_type": "code",
      "metadata": {
        "id": "4f-ljVqCUoes",
        "colab": {
          "base_uri": "https://localhost:8080/"
        },
        "outputId": "78d13991-37c3-4305-c2cd-2c5f505ee7e3"
      },
      "source": [
        "tel = Numer_Tel(\"10006892425\")\n",
        "print(tel)\n",
        "print(\"Państwo:\" + tel.panstwa())"
      ],
      "execution_count": null,
      "outputs": [
        {
          "output_type": "stream",
          "text": [
            "Prawidłowy numer telefonu z prefixami\n",
            "jeden, zero, zero, zero, szesc, osiem, dziewiec, dwa, cztery, dwa, piec\n",
            "Ten numer nie jest polski\n",
            "Państwo:Japonia\n"
          ],
          "name": "stdout"
        }
      ]
    },
    {
      "cell_type": "code",
      "metadata": {
        "id": "D6N1N72a04Qk",
        "colab": {
          "base_uri": "https://localhost:8080/"
        },
        "outputId": "9f76b8c2-205f-4aa0-f77d-17eec8f7d27b"
      },
      "source": [
        "tel = Numer_Tel(\"48426892425\")\n",
        "print(tel)\n",
        "print(\"Województwo:\" + tel.wojewodztwa())"
      ],
      "execution_count": null,
      "outputs": [
        {
          "output_type": "stream",
          "text": [
            "Prawidłowy numer telefonu z prefixami\n",
            "cztery, osiem, cztery, dwa, szesc, osiem, dziewiec, dwa, cztery, dwa, piec\n",
            "Województwo:Łódzkie - Łódź\n"
          ],
          "name": "stdout"
        }
      ]
    }
  ]
}