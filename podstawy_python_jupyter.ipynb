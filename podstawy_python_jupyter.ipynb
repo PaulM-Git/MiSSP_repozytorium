{
  "nbformat": 4,
  "nbformat_minor": 0,
  "metadata": {
    "kernelspec": {
      "display_name": "Python 3",
      "language": "python",
      "name": "python3"
    },
    "language_info": {
      "codemirror_mode": {
        "name": "ipython",
        "version": 3
      },
      "file_extension": ".py",
      "mimetype": "text/x-python",
      "name": "python",
      "nbconvert_exporter": "python",
      "pygments_lexer": "ipython3",
      "version": "3.7.3"
    },
    "colab": {
      "name": "podstawy_python_jupyter.ipynb",
      "provenance": [],
      "collapsed_sections": []
    }
  },
  "cells": [
    {
      "cell_type": "code",
      "metadata": {
        "id": "6Je9MOUxz7Yd",
        "colab": {
          "base_uri": "https://localhost:8080/",
          "height": 35
        },
        "outputId": "dac37896-d2bd-4fbc-98ce-a350bf23e9ae"
      },
      "source": [
        "# komentarz\n",
        "\n",
        "# if\n",
        "\"\"\"\n",
        "to jest wielolinijkowy komentarz zapisany formalnie jako string \n",
        "\n",
        "\"\"\"\n",
        "wielkosc = 5\n",
        "wielkosc += 1\n",
        "print(wielkosc)"
      ],
      "execution_count": null,
      "outputs": [
        {
          "output_type": "stream",
          "text": [
            "6\n"
          ],
          "name": "stdout"
        }
      ]
    },
    {
      "cell_type": "code",
      "metadata": {
        "id": "fiE0-Ruez7Yx",
        "colab": {
          "base_uri": "https://localhost:8080/",
          "height": 35
        },
        "outputId": "37260a8a-6c40-46ba-8404-6cde39fe7788"
      },
      "source": [
        "#wciecie to cztery spacje\n",
        "if wielkosc >6:\n",
        "    print(\"ale duze\")\n",
        "elif wielkosc < 3:\n",
        "    print(\"malutkie\")\n",
        "    print('franek')\n",
        "else:\n",
        "    print(\"w sam raz\")"
      ],
      "execution_count": null,
      "outputs": [
        {
          "output_type": "stream",
          "text": [
            "w sam raz\n"
          ],
          "name": "stdout"
        }
      ]
    },
    {
      "cell_type": "code",
      "metadata": {
        "id": "ii5Uuso0z7ZA",
        "colab": {
          "base_uri": "https://localhost:8080/"
        },
        "outputId": "0a18ea61-38f3-46a6-f401-df630df49b60"
      },
      "source": [
        "# to jest lista \n",
        "studenci = [\"Ania\", \"Zosia\", \"Kasia\", \"Franek\"]\n",
        "\n",
        "print(studenci)"
      ],
      "execution_count": null,
      "outputs": [
        {
          "output_type": "stream",
          "text": [
            "['Ania', 'Zosia', 'Kasia', 'Franek']\n"
          ],
          "name": "stdout"
        }
      ]
    },
    {
      "cell_type": "code",
      "metadata": {
        "id": "1XZlQubez7ZL",
        "colab": {
          "base_uri": "https://localhost:8080/",
          "height": 36
        },
        "outputId": "e774b09a-02d0-45b4-8c45-51894a5300a2"
      },
      "source": [
        "# ta instukcja njapierw bierze pierwszy element listy(tablicy) - Ania, a nastepnie drugi element imienia Ania \n",
        "studenci[0][1]"
      ],
      "execution_count": null,
      "outputs": [
        {
          "output_type": "execute_result",
          "data": {
            "application/vnd.google.colaboratory.intrinsic+json": {
              "type": "string"
            },
            "text/plain": [
              "'n'"
            ]
          },
          "metadata": {
            "tags": []
          },
          "execution_count": 5
        }
      ]
    },
    {
      "cell_type": "code",
      "metadata": {
        "scrolled": true,
        "id": "9yXK47dhz7ZU",
        "colab": {
          "base_uri": "https://localhost:8080/",
          "height": 623
        },
        "outputId": "4aa2f9c7-b935-4a66-de0b-3d83007a9558"
      },
      "source": [
        "for student in studenci:\n",
        "    print(\"student ma na imie:\", student)\n",
        "    \n",
        "for student in studenci:\n",
        "    print(student)\n",
        "    if student[0]==\"A\":\n",
        "        print(\"student na poczatku alfabetu\")\n",
        "\n",
        "for numer in range(10):\n",
        "    print(numer)\n",
        "\n",
        "for numer in range(1, 10):\n",
        "    print(numer)\n",
        "\n",
        "for numer in range(1, 10, 2):\n",
        "    print(numer)"
      ],
      "execution_count": null,
      "outputs": [
        {
          "output_type": "stream",
          "text": [
            "student ma na imie: Ania\n",
            "student ma na imie: Zosia\n",
            "student ma na imie: Kasia\n",
            "student ma na imie: Franek\n",
            "Ania\n",
            "student na poczatku alfabetu\n",
            "Zosia\n",
            "Kasia\n",
            "Franek\n",
            "0\n",
            "1\n",
            "2\n",
            "3\n",
            "4\n",
            "5\n",
            "6\n",
            "7\n",
            "8\n",
            "9\n",
            "1\n",
            "2\n",
            "3\n",
            "4\n",
            "5\n",
            "6\n",
            "7\n",
            "8\n",
            "9\n",
            "1\n",
            "3\n",
            "5\n",
            "7\n",
            "9\n"
          ],
          "name": "stdout"
        }
      ]
    },
    {
      "cell_type": "code",
      "metadata": {
        "id": "P5b6wsfIz7Ze",
        "colab": {
          "base_uri": "https://localhost:8080/",
          "height": 90
        },
        "outputId": "46da9d70-b28b-47da-903a-74d73aad1420"
      },
      "source": [
        "for numer, student in enumerate(studenci):\n",
        "    print(\"student {} ma numer {}\".format(student,numer))\n",
        "    next(enumerate(studenci))"
      ],
      "execution_count": null,
      "outputs": [
        {
          "output_type": "stream",
          "text": [
            "student Ania ma numer 0\n",
            "student Zosia ma numer 1\n",
            "student Kasia ma numer 2\n",
            "student Franek ma numer 3\n"
          ],
          "name": "stdout"
        }
      ]
    },
    {
      "cell_type": "code",
      "metadata": {
        "id": "4Kv_6f7Xz7Zn",
        "colab": {
          "base_uri": "https://localhost:8080/"
        },
        "outputId": "4acb7daa-6871-45a9-c37f-257e5f626af6"
      },
      "source": [
        "oceny = [2,2,5,3]\n",
        "\n",
        "for numer, student in enumerate(studenci):\n",
        "    print(\"student {} ma numer {} i ocenę {}\".format(student,numer,oceny[numer]))\n",
        "\n",
        "print(\"--\"*20)    \n",
        "for number, (student, ocena) in enumerate(zip(studenci,oceny)):\n",
        "    print(\"student {} ma numer {} i ocenę {}\".format(student,number,ocena))"
      ],
      "execution_count": null,
      "outputs": [
        {
          "output_type": "stream",
          "text": [
            "student Ania ma numer 0 i ocenę 2\n",
            "student Zosia ma numer 1 i ocenę 2\n",
            "student Kasia ma numer 2 i ocenę 5\n",
            "student Franek ma numer 3 i ocenę 3\n",
            "----------------------------------------\n",
            "student Ania ma numer 0 i ocenę 2\n",
            "student Zosia ma numer 1 i ocenę 2\n",
            "student Kasia ma numer 2 i ocenę 5\n",
            "student Franek ma numer 3 i ocenę 3\n"
          ],
          "name": "stdout"
        }
      ]
    },
    {
      "cell_type": "code",
      "metadata": {
        "id": "R4o0Pdmkz7Zt"
      },
      "source": [
        "trzy_elementy= [1,2,3]\n",
        "pierwszy,drugi,trzeci= trzy_elementy"
      ],
      "execution_count": null,
      "outputs": []
    },
    {
      "cell_type": "code",
      "metadata": {
        "id": "XUn7eEGcz7Z0",
        "colab": {
          "base_uri": "https://localhost:8080/",
          "height": 182
        },
        "outputId": "214bcf50-f426-4157-bebe-7f6cc7e9628d"
      },
      "source": [
        "n = 1\n",
        "\n",
        "while(n < 10):\n",
        "    print(n)\n",
        "    n+=1"
      ],
      "execution_count": null,
      "outputs": [
        {
          "output_type": "stream",
          "text": [
            "1\n",
            "2\n",
            "3\n",
            "4\n",
            "5\n",
            "6\n",
            "7\n",
            "8\n",
            "9\n"
          ],
          "name": "stdout"
        }
      ]
    },
    {
      "cell_type": "code",
      "metadata": {
        "id": "GBFJ0yjLz7Z9"
      },
      "source": [
        "# slowko def definiuje nam funkcje \n",
        "def dodaj_dwa(liczba):\n",
        "    return liczba+2\n",
        "\n",
        "def dodaj_trzy(liczba):\n",
        "    return liczba+3\n",
        "\n",
        "def dodaj_dwie_liczby(liczba1,liczba2):\n",
        "    return liczba1+liczba2\n",
        "\n",
        "def bez_return():\n",
        "  print(\"nie mam nic madrego do zwrocenia\")\n",
        "\n",
        "\n",
        "\n",
        "dodaj_cztery = lambda liczba:liczba+4"
      ],
      "execution_count": null,
      "outputs": []
    },
    {
      "cell_type": "code",
      "metadata": {
        "id": "ZzUcpguA-Ie6",
        "colab": {
          "base_uri": "https://localhost:8080/",
          "height": 72
        },
        "outputId": "ef91473a-b67f-40f0-8e22-2c55ab6dbd71"
      },
      "source": [
        "wynik = dodaj_dwa(18)\n",
        "print(wynik)\n",
        "wynik = bez_return()\n",
        "print(wynik)"
      ],
      "execution_count": null,
      "outputs": [
        {
          "output_type": "stream",
          "text": [
            "20\n",
            "nie mam nic madrego do zwrocenia\n",
            "None\n"
          ],
          "name": "stdout"
        }
      ]
    },
    {
      "cell_type": "code",
      "metadata": {
        "id": "R68HIMmlz7aF",
        "colab": {
          "base_uri": "https://localhost:8080/"
        },
        "outputId": "c16c7a72-0225-4546-eb9d-1bcba762d832"
      },
      "source": [
        "funkcje=[dodaj_dwa,dodaj_trzy,dodaj_cztery]\n",
        "\n",
        "jakis_nr= 10\n",
        "\n",
        "for funkcja in funkcje:\n",
        "    print(funkcja(jakis_nr))"
      ],
      "execution_count": null,
      "outputs": [
        {
          "output_type": "stream",
          "text": [
            "12\n",
            "13\n",
            "14\n"
          ],
          "name": "stdout"
        }
      ]
    },
    {
      "cell_type": "code",
      "metadata": {
        "id": "LVDrOqASz7aP",
        "colab": {
          "base_uri": "https://localhost:8080/"
        },
        "outputId": "f27a5f7c-d279-4c48-ec85-34d74505ae7b"
      },
      "source": [
        "studenci[0] # pierwszy element listy\n",
        "studenci[1:] # wszystkie elementy listy oprocz pierwszego \n",
        "studenci[:-1] # wszystkie elementy listy oprocz ostatniego "
      ],
      "execution_count": null,
      "outputs": [
        {
          "output_type": "execute_result",
          "data": {
            "text/plain": [
              "['Ania', 'Zosia', 'Kasia']"
            ]
          },
          "metadata": {
            "tags": []
          },
          "execution_count": 6
        }
      ]
    },
    {
      "cell_type": "code",
      "metadata": {
        "id": "w8Xamp1Mz7aW",
        "colab": {
          "base_uri": "https://localhost:8080/"
        },
        "outputId": "8bc06ab4-d7ec-4057-864a-2c4bece81c46"
      },
      "source": [
        "#### challenge 0.1\n",
        "\n",
        "zajecia = [\"wf\", \"informatyka\", \"relax\", \"mispy\", \"piateczek\"]\n",
        "\n",
        "dnityg= [\"Pon\", \"Wto\", \"Sro\", \"Czwar\", \"Pio\"]\n",
        "\n",
        "# wyprintuj zajecia od srody do piatku\n",
        "for dzien, zajecie in zip(dnityg, zajecia):\n",
        "  if dzien != \"Pon\" and dzien != \"Wto\":\n",
        "    print(zajecie) \n",
        "print(\" \"*20)\n",
        "print(\"--\"*20)   \n",
        "print(\" \"*20) \n",
        "# wyprintuj oprocz srody\n",
        "for dzien, zajecie in zip(dnityg,zajecia):\n",
        "  if dzien != \"Sro\":\n",
        "    print(zajecie)"
      ],
      "execution_count": 3,
      "outputs": [
        {
          "output_type": "stream",
          "text": [
            "relax\n",
            "mispy\n",
            "piateczek\n",
            "                    \n",
            "----------------------------------------\n",
            "                    \n",
            "wf\n",
            "informatyka\n",
            "mispy\n",
            "piateczek\n"
          ],
          "name": "stdout"
        }
      ]
    },
    {
      "cell_type": "code",
      "metadata": {
        "id": "Y78RlHmlz7ad",
        "colab": {
          "base_uri": "https://localhost:8080/"
        },
        "outputId": "0a0769a7-f6ae-442f-d1d9-bbc9e10d21d4"
      },
      "source": [
        "#### challenge 0.2\n",
        "\n",
        "zajecia = [[\"wf\"],\n",
        "           [\"informatyka\", \"nauka czytania\"],\n",
        "           [\"relax\", \"jedzenie\"],\n",
        "           [\"mispy\",\"mispy w domu\"],\n",
        "           [\"piateczek\", \"praca domowa z mispow\", \"Ilovemispy\", \"mispy w czasie snu\"]\n",
        "          ]\n",
        "\n",
        "dnityg= [\"Pon\",\"Wto\",\"Sro\",\"Czwar\",\"Pio\"]\n",
        "\n",
        "# zdefiniuj funkcje ktora poda ile jest zajec danego dnia\n",
        "def ile_zaj():\n",
        "  rozklad_dnia = []\n",
        "  rozklad_dnia.insert(0, len(zajecia[0]))\n",
        "  rozklad_dnia.insert(1, len(zajecia[1]))\n",
        "  rozklad_dnia.insert(2, len(zajecia[2]))\n",
        "  rozklad_dnia.insert(3, len(zajecia[3]))\n",
        "  rozklad_dnia.insert(4, len(zajecia[4]))\n",
        "  for dzien, liczba_zajec in zip(dnityg, rozklad_dnia):\n",
        "    print(\"W ten dzień, czyli {} mam taką liczbę zajęć: {}\".format(dzien, liczba_zajec))\n",
        "    \n",
        "ile_zaj()\n",
        "# odczytujemy element po elementcie listy 1 przy użyciu pętli for\n",
        "print(\" \"*20)\n",
        "print(\"--\"*20)\n",
        "print(\" \"*20)\n",
        "for x in zajecia:\n",
        "  print(x)\n",
        "# lista_zajec_z_dnia -> ile ich jest\n",
        "\n",
        "# posortuj dni po najbardziej zajetych\n",
        "print(\" \"*20)\n",
        "print(\"--\"*20)\n",
        "print(\" \"*20)\n"
      ],
      "execution_count": 91,
      "outputs": [
        {
          "output_type": "stream",
          "text": [
            "W ten dzień, czyli Pon mam taką liczbę zajęć: 1\n",
            "W ten dzień, czyli Wto mam taką liczbę zajęć: 2\n",
            "W ten dzień, czyli Sro mam taką liczbę zajęć: 2\n",
            "W ten dzień, czyli Czwar mam taką liczbę zajęć: 2\n",
            "W ten dzień, czyli Pio mam taką liczbę zajęć: 4\n",
            "                    \n",
            "----------------------------------------\n",
            "                    \n",
            "['wf']\n",
            "['informatyka', 'nauka czytania']\n",
            "['relax', 'jedzenie']\n",
            "['mispy', 'mispy w domu']\n",
            "['piateczek', 'praca domowa z mispow', 'Ilovemispy', 'mispy w czasie snu']\n",
            "                    \n",
            "----------------------------------------\n",
            "                    \n"
          ],
          "name": "stdout"
        }
      ]
    },
    {
      "cell_type": "code",
      "metadata": {
        "id": "_FfAqZNHJPC_",
        "colab": {
          "base_uri": "https://localhost:8080/"
        },
        "outputId": "6d4d372e-3e0f-4a8b-bb2b-5c0d8fdb94dc"
      },
      "source": [
        "#### challenge 0.3\r\n",
        "\r\n",
        "# napisz program ktory zdajdzie dzien z najwieksza iloscia mispow\r\n",
        "def najwiecej_misp(zajecia):\r\n",
        "  ilosc = 0\r\n",
        "  for x in zajecia:\r\n",
        "      if \"misp\" in x:\r\n",
        "        ilosc += 1\r\n",
        "        \r\n",
        "  return ilosc\r\n",
        "\r\n",
        "polaczenie = zip(zajecia, dnityg)\r\n",
        "\r\n",
        "najwiecej = max(zajecia, key = najwiecej_misp)\r\n",
        "max(polaczenie, key = lambda para:najwiecej_misp(para[0]))\r\n",
        "print(dnityg[zajecia.index(najwiecej)])"
      ],
      "execution_count": 92,
      "outputs": [
        {
          "output_type": "stream",
          "text": [
            "Pio\n"
          ],
          "name": "stdout"
        }
      ]
    },
    {
      "cell_type": "code",
      "metadata": {
        "id": "A1wuhTarz7ak",
        "colab": {
          "base_uri": "https://localhost:8080/",
          "height": 35
        },
        "outputId": "63a42c18-ff04-4dc8-a8f7-bc0ad4042e9f"
      },
      "source": [
        "len(zajecia)\n",
        "\n",
        "zajecia[4][1]\n",
        "\n",
        "\"Ma\" in \"MojaMaMa\"\n",
        "\n",
        "liczby=[\"22\",\"11\",\"33\",\"100\"]\n",
        "liczby_i_nazwy= [(\"22\",\"dwadziescia dwa\"),\n",
        "                 (\"11\",\"jedenascie\"),\n",
        "        (\"33\",\"trzydziesci trzy\"),(\"100\",\"sto\")]\n",
        "sorted(liczby)\n",
        "\n",
        "sorted(liczby, key=int)\n",
        "\n",
        "liczby_kolejnosc= enumerate(liczby)\n",
        "\n",
        "def czy_jest_jeden(liczba):\n",
        "\n",
        "    if \"1\" in liczba:\n",
        "        return 1\n",
        "    else:\n",
        "        return 0\n",
        "def na_liczbe(krotka):\n",
        "         return int(krotka[0])\n",
        "def na_liczbe_index(krotka):\n",
        "         return int(krotka[1])    \n",
        "sorted(liczby, key=czy_jest_jeden)\n",
        "         \n",
        "sorted(liczby_i_nazwy,key=na_liczbe)\n",
        "\n",
        "sorted(liczby_kolejnosc,key=na_liczbe_index)"
      ],
      "execution_count": null,
      "outputs": [
        {
          "output_type": "execute_result",
          "data": {
            "text/plain": [
              "[(1, '11'), (0, '22'), (2, '33'), (3, '100')]"
            ]
          },
          "metadata": {
            "tags": []
          },
          "execution_count": 19
        }
      ]
    },
    {
      "cell_type": "code",
      "metadata": {
        "id": "RIbl0wACz7a0",
        "colab": {
          "base_uri": "https://localhost:8080/",
          "height": 35
        },
        "outputId": "e0bccb06-50c7-4eb6-c098-e3ef638862df"
      },
      "source": [
        " next(enumerate(studenci))\n",
        " "
      ],
      "execution_count": null,
      "outputs": [
        {
          "output_type": "execute_result",
          "data": {
            "text/plain": [
              "(0, 'Ania')"
            ]
          },
          "metadata": {
            "tags": []
          },
          "execution_count": 31
        }
      ]
    }
  ]
}