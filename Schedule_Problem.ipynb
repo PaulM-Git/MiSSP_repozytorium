{
  "nbformat": 4,
  "nbformat_minor": 0,
  "metadata": {
    "colab": {
      "name": "Schedule_Problem.ipynb",
      "provenance": [],
      "collapsed_sections": []
    },
    "kernelspec": {
      "name": "python3",
      "display_name": "Python 3"
    }
  },
  "cells": [
    {
      "cell_type": "code",
      "metadata": {
        "id": "GvZw_mOaKEqR",
        "colab": {
          "base_uri": "https://localhost:8080/"
        },
        "outputId": "83c8554a-9950-44c9-b337-89a0253dcbad"
      },
      "source": [
        "!pip install pulp\n",
        "\n",
        "!sudo apt-get install coinor-cbc glpk-utils coinor-clp"
      ],
      "execution_count": 2,
      "outputs": [
        {
          "output_type": "stream",
          "text": [
            "Requirement already satisfied: pulp in /usr/local/lib/python3.6/dist-packages (2.4)\n",
            "Requirement already satisfied: amply>=0.1.2 in /usr/local/lib/python3.6/dist-packages (from pulp) (0.1.4)\n",
            "Requirement already satisfied: pyparsing in /usr/local/lib/python3.6/dist-packages (from amply>=0.1.2->pulp) (2.4.7)\n",
            "Requirement already satisfied: docutils>=0.3 in /usr/local/lib/python3.6/dist-packages (from amply>=0.1.2->pulp) (0.16)\n",
            "Reading package lists... Done\n",
            "Building dependency tree       \n",
            "Reading state information... Done\n",
            "coinor-cbc is already the newest version (2.9.9+repack1-1).\n",
            "coinor-clp is already the newest version (1.16.11+repack1-1).\n",
            "glpk-utils is already the newest version (4.65-1).\n",
            "0 upgraded, 0 newly installed, 0 to remove and 15 not upgraded.\n"
          ],
          "name": "stdout"
        }
      ]
    },
    {
      "cell_type": "code",
      "metadata": {
        "colab": {
          "base_uri": "https://localhost:8080/"
        },
        "id": "T38UtGqMfMa7",
        "outputId": "77b88468-387c-4513-a660-1cffc7f9d4ad"
      },
      "source": [
        "import pulp\n",
        "\n",
        "print(pulp.__version__)\n"
      ],
      "execution_count": 3,
      "outputs": [
        {
          "output_type": "stream",
          "text": [
            "2.4\n"
          ],
          "name": "stdout"
        }
      ]
    },
    {
      "cell_type": "code",
      "metadata": {
        "colab": {
          "base_uri": "https://localhost:8080/"
        },
        "id": "sSFDRBvLfPYy",
        "outputId": "d5db1170-dfa8-42cb-8dbf-84d2658378da"
      },
      "source": [
        "pulp.pulpTestAll()"
      ],
      "execution_count": 3,
      "outputs": [
        {
          "output_type": "stream",
          "text": [
            "....................."
          ],
          "name": "stderr"
        },
        {
          "output_type": "stream",
          "text": [
            "Solver <class 'pulp.apis.coin_api.PULP_CBC_CMD'> available\n",
            "Solver <class 'pulp.apis.cplex_api.CPLEX_DLL'> unavailable\n",
            "Solver <class 'pulp.apis.cplex_api.CPLEX_CMD'> unavailable\n",
            "Solver <class 'pulp.apis.cplex_api.CPLEX_PY'> unavailable\n",
            "Solver <class 'pulp.apis.coin_api.COIN_CMD'> available\n",
            "Solver <class 'pulp.apis.coin_api.COINMP_DLL'> unavailable\n",
            "Solver <class 'pulp.apis.glpk_api.GLPK_CMD'> available\n",
            "Solver <class 'pulp.apis.xpress_api.XPRESS'> unavailable\n",
            "Solver <class 'pulp.apis.gurobi_api.GUROBI'> unavailable\n",
            "Solver <class 'pulp.apis.gurobi_api.GUROBI_CMD'> unavailable\n",
            "Solver <class 'pulp.apis.glpk_api.PYGLPK'> unavailable\n",
            "Solver <class 'pulp.apis.coin_api.YAPOSIB'> unavailable\n",
            "Solver <class 'pulp.apis.choco_api.PULP_CHOCO_CMD'> available\n",
            "Solver <class 'pulp.apis.choco_api.CHOCO_CMD'> unavailable\n",
            "Solver <class 'pulp.apis.mipcl_api.MIPCL_CMD'> unavailable\n",
            "Solver <class 'pulp.apis.mosek_api.MOSEK'> unavailable\n",
            "Solver <class 'pulp.apis.scip_api.SCIP_CMD'> unavailable\n",
            "\t Testing invalid status\n",
            "\t Testing continuous LP solution - export dict\n",
            "\t Testing export dict for LP\n",
            "\t Testing MIP solution\n",
            "\t Testing maximize continuous LP solution\n",
            "\t Testing continuous LP solution - export JSON\n",
            "\t Testing continuous LP solution - export solver dict\n",
            "\t Testing continuous LP solution - export solver JSON\n",
            "\t Testing reading MPS files - binary variable, no constraint names\n",
            "\t Testing reading MPS files - integer variable\n",
            "\t Testing reading MPS files - maximize\n",
            "\t Testing logPath argument\n",
            "\t Testing makeDict general behavior\n",
            "\t Testing makeDict default value behavior\n",
            "\t Testing the availability of the function pulpTestAll\n",
            "\t Testing zero subtraction\n",
            "\t Testing inconsistent lp solution\n",
            "\t Testing continuous LP solution\n",
            "\t Testing maximize continuous LP solution\n",
            "\t Testing unbounded continuous LP solution\n",
            "\t Testing Long Names\n",
            "\t Testing repeated Names\n"
          ],
          "name": "stdout"
        },
        {
          "output_type": "stream",
          "text": [
            "...................."
          ],
          "name": "stderr"
        },
        {
          "output_type": "stream",
          "text": [
            "\t Testing zero constraint\n",
            "\t Testing zero objective\n",
            "\t Testing LpVariable (not LpAffineExpression) objective\n",
            "\t Testing Long lines in LP\n",
            "\t Testing LpAffineExpression divide\n",
            "\t Testing MIP solution\n",
            "\t Testing MIP solution with floats in objective\n",
            "\t Testing MIP solution\n",
            "\t Testing MIP solution\n",
            "\t Testing MIP relaxation\n",
            "\t Testing feasibility problem (no objective)\n",
            "\t Testing an infeasible problem\n",
            "\t Testing an integer infeasible problem\n",
            "\t Testing another integer infeasible problem\n",
            "\t Testing column based modelling\n",
            "\t Testing dual variables and slacks reporting\n"
          ],
          "name": "stdout"
        },
        {
          "output_type": "stream",
          "text": [
            "................"
          ],
          "name": "stderr"
        },
        {
          "output_type": "stream",
          "text": [
            "\t Testing fractional constraints\n",
            "\t Testing elastic constraints (no change)\n",
            "\t Testing elastic constraints (freebound)\n",
            "\t Testing elastic constraints (penalty unchanged)\n",
            "\t Testing elastic constraints (penalty unbounded)\n",
            "\t Testing timeLimit argument\n",
            "\t Testing invalid status\n",
            "\t Testing continuous LP solution - export dict\n",
            "\t Testing export dict for LP\n",
            "\t Testing MIP solution\n",
            "\t Testing maximize continuous LP solution\n",
            "\t Testing continuous LP solution - export JSON\n",
            "\t Testing continuous LP solution - export solver dict\n",
            "\t Testing continuous LP solution - export solver JSON\n",
            "\t Testing reading MPS files - binary variable, no constraint names\n",
            "\t Testing reading MPS files - integer variable\n"
          ],
          "name": "stdout"
        },
        {
          "output_type": "stream",
          "text": [
            ".................."
          ],
          "name": "stderr"
        },
        {
          "output_type": "stream",
          "text": [
            "\t Testing reading MPS files - maximize\n",
            "\t Testing logPath argument\n",
            "\t Testing makeDict general behavior\n",
            "\t Testing makeDict default value behavior\n",
            "\t Testing the availability of the function pulpTestAll\n",
            "\t Testing zero subtraction\n",
            "\t Testing inconsistent lp solution\n",
            "\t Testing continuous LP solution\n",
            "\t Testing maximize continuous LP solution\n",
            "\t Testing unbounded continuous LP solution\n",
            "\t Testing Long Names\n",
            "\t Testing repeated Names\n",
            "\t Testing zero constraint\n",
            "\t Testing zero objective\n",
            "\t Testing LpVariable (not LpAffineExpression) objective\n",
            "\t Testing Long lines in LP\n",
            "\t Testing LpAffineExpression divide\n",
            "\t Testing MIP solution\n",
            "\t Testing MIP solution with floats in objective\n"
          ],
          "name": "stdout"
        },
        {
          "output_type": "stream",
          "text": [
            "................."
          ],
          "name": "stderr"
        },
        {
          "output_type": "stream",
          "text": [
            "\t Testing MIP solution\n",
            "\t Testing MIP solution\n",
            "\t Testing MIP relaxation\n",
            "\t Testing feasibility problem (no objective)\n",
            "\t Testing an infeasible problem\n",
            "\t Testing an integer infeasible problem\n",
            "\t Testing another integer infeasible problem\n",
            "\t Testing column based modelling\n",
            "\t Testing fractional constraints\n",
            "\t Testing elastic constraints (no change)\n",
            "\t Testing elastic constraints (freebound)\n",
            "\t Testing elastic constraints (penalty unchanged)\n",
            "\t Testing elastic constraints (penalty unbounded)\n"
          ],
          "name": "stdout"
        },
        {
          "output_type": "stream",
          "text": [
            "............................"
          ],
          "name": "stderr"
        },
        {
          "output_type": "stream",
          "text": [
            "\t Testing timeLimit argument\n",
            "\t Testing invalid status\n",
            "\t Testing continuous LP solution - export dict\n",
            "\t Testing export dict for LP\n",
            "\t Testing MIP solution\n",
            "\t Testing maximize continuous LP solution\n",
            "\t Testing continuous LP solution - export JSON\n",
            "\t Testing continuous LP solution - export solver dict\n",
            "\t Testing continuous LP solution - export solver JSON\n",
            "\t Testing reading MPS files - binary variable, no constraint names\n",
            "\t Testing reading MPS files - integer variable\n",
            "\t Testing reading MPS files - maximize\n",
            "\t Testing makeDict general behavior\n",
            "\t Testing makeDict default value behavior\n",
            "\t Testing the availability of the function pulpTestAll\n",
            "\t Testing zero subtraction\n",
            "\t Testing inconsistent lp solution\n",
            "\t Testing continuous LP solution\n",
            "\t Testing maximize continuous LP solution\n",
            "\t Testing unbounded continuous LP solution\n",
            "\t Testing Long Names\n",
            "\t Testing repeated Names\n",
            "\t Testing zero constraint\n",
            "\t Testing zero objective\n",
            "\t Testing LpVariable (not LpAffineExpression) objective\n",
            "\t Testing LpAffineExpression divide\n"
          ],
          "name": "stdout"
        },
        {
          "output_type": "stream",
          "text": [
            "......................"
          ],
          "name": "stderr"
        },
        {
          "output_type": "stream",
          "text": [
            "\t Testing MIP solution\n",
            "\t Testing MIP solution with floats in objective\n",
            "\t Testing MIP solution\n",
            "\t Testing MIP solution\n",
            "\t Testing MIP relaxation\n",
            "\t Testing feasibility problem (no objective)\n",
            "\t Testing an infeasible problem\n",
            "\t Testing an integer infeasible problem\n",
            "\t Testing another integer infeasible problem\n",
            "\t Testing column based modelling\n",
            "\t Testing fractional constraints\n",
            "\t Testing elastic constraints (no change)\n",
            "\t Testing elastic constraints (freebound)\n",
            "\t Testing elastic constraints (penalty unchanged)\n",
            "\t Testing elastic constraints (penalty unbounded)\n",
            "\t Testing timeLimit argument\n",
            "\t Testing invalid status\n",
            "\t Testing continuous LP solution - export dict\n"
          ],
          "name": "stdout"
        },
        {
          "output_type": "stream",
          "text": [
            "."
          ],
          "name": "stderr"
        },
        {
          "output_type": "stream",
          "text": [
            "\t Testing export dict for LP\n"
          ],
          "name": "stdout"
        },
        {
          "output_type": "stream",
          "text": [
            "."
          ],
          "name": "stderr"
        },
        {
          "output_type": "stream",
          "text": [
            "\t Testing MIP solution\n"
          ],
          "name": "stdout"
        },
        {
          "output_type": "stream",
          "text": [
            "."
          ],
          "name": "stderr"
        },
        {
          "output_type": "stream",
          "text": [
            "\t Testing maximize continuous LP solution\n"
          ],
          "name": "stdout"
        },
        {
          "output_type": "stream",
          "text": [
            "."
          ],
          "name": "stderr"
        },
        {
          "output_type": "stream",
          "text": [
            "\t Testing continuous LP solution - export JSON\n"
          ],
          "name": "stdout"
        },
        {
          "output_type": "stream",
          "text": [
            "."
          ],
          "name": "stderr"
        },
        {
          "output_type": "stream",
          "text": [
            "\t Testing continuous LP solution - export solver dict\n"
          ],
          "name": "stdout"
        },
        {
          "output_type": "stream",
          "text": [
            "."
          ],
          "name": "stderr"
        },
        {
          "output_type": "stream",
          "text": [
            "\t Testing continuous LP solution - export solver JSON\n"
          ],
          "name": "stdout"
        },
        {
          "output_type": "stream",
          "text": [
            ".........."
          ],
          "name": "stderr"
        },
        {
          "output_type": "stream",
          "text": [
            "\t Testing reading MPS files - binary variable, no constraint names\n",
            "\t Testing reading MPS files - integer variable\n",
            "\t Testing reading MPS files - maximize\n",
            "\t Testing makeDict general behavior\n",
            "\t Testing makeDict default value behavior\n",
            "\t Testing the availability of the function pulpTestAll\n",
            "\t Testing zero subtraction\n",
            "\t Testing inconsistent lp solution\n",
            "\t Testing continuous LP solution\n"
          ],
          "name": "stdout"
        },
        {
          "output_type": "stream",
          "text": [
            "."
          ],
          "name": "stderr"
        },
        {
          "output_type": "stream",
          "text": [
            "\t Testing maximize continuous LP solution\n"
          ],
          "name": "stdout"
        },
        {
          "output_type": "stream",
          "text": [
            ".."
          ],
          "name": "stderr"
        },
        {
          "output_type": "stream",
          "text": [
            "\t Testing unbounded continuous LP solution\n",
            "\t Testing Long Names\n"
          ],
          "name": "stdout"
        },
        {
          "output_type": "stream",
          "text": [
            ".."
          ],
          "name": "stderr"
        },
        {
          "output_type": "stream",
          "text": [
            "\t Testing repeated Names\n",
            "\t Testing zero constraint\n"
          ],
          "name": "stdout"
        },
        {
          "output_type": "stream",
          "text": [
            "."
          ],
          "name": "stderr"
        },
        {
          "output_type": "stream",
          "text": [
            "\t Testing zero objective\n"
          ],
          "name": "stdout"
        },
        {
          "output_type": "stream",
          "text": [
            "."
          ],
          "name": "stderr"
        },
        {
          "output_type": "stream",
          "text": [
            "\t Testing LpVariable (not LpAffineExpression) objective\n"
          ],
          "name": "stdout"
        },
        {
          "output_type": "stream",
          "text": [
            ".."
          ],
          "name": "stderr"
        },
        {
          "output_type": "stream",
          "text": [
            "\t Testing LpAffineExpression divide\n"
          ],
          "name": "stdout"
        },
        {
          "output_type": "stream",
          "text": [
            "."
          ],
          "name": "stderr"
        },
        {
          "output_type": "stream",
          "text": [
            "\t Testing MIP solution\n"
          ],
          "name": "stdout"
        },
        {
          "output_type": "stream",
          "text": [
            "."
          ],
          "name": "stderr"
        },
        {
          "output_type": "stream",
          "text": [
            "\t Testing MIP solution with floats in objective\n"
          ],
          "name": "stdout"
        },
        {
          "output_type": "stream",
          "text": [
            "."
          ],
          "name": "stderr"
        },
        {
          "output_type": "stream",
          "text": [
            "\t Testing MIP solution\n"
          ],
          "name": "stdout"
        },
        {
          "output_type": "stream",
          "text": [
            "."
          ],
          "name": "stderr"
        },
        {
          "output_type": "stream",
          "text": [
            "\t Testing MIP solution\n"
          ],
          "name": "stdout"
        },
        {
          "output_type": "stream",
          "text": [
            "./usr/local/lib/python3.6/dist-packages/pulp/apis/choco_api.py:83: UserWarning: CHOCO_CMD cannot solve the relaxation of a problem\n",
            "  warnings.warn(\"CHOCO_CMD cannot solve the relaxation of a problem\")\n"
          ],
          "name": "stderr"
        },
        {
          "output_type": "stream",
          "text": [
            "\t Testing MIP relaxation\n"
          ],
          "name": "stdout"
        },
        {
          "output_type": "stream",
          "text": [
            "."
          ],
          "name": "stderr"
        },
        {
          "output_type": "stream",
          "text": [
            "\t Testing feasibility problem (no objective)\n"
          ],
          "name": "stdout"
        },
        {
          "output_type": "stream",
          "text": [
            "."
          ],
          "name": "stderr"
        },
        {
          "output_type": "stream",
          "text": [
            "\t Testing an infeasible problem\n"
          ],
          "name": "stdout"
        },
        {
          "output_type": "stream",
          "text": [
            "."
          ],
          "name": "stderr"
        },
        {
          "output_type": "stream",
          "text": [
            "\t Testing an integer infeasible problem\n"
          ],
          "name": "stdout"
        },
        {
          "output_type": "stream",
          "text": [
            "."
          ],
          "name": "stderr"
        },
        {
          "output_type": "stream",
          "text": [
            "\t Testing another integer infeasible problem\n"
          ],
          "name": "stdout"
        },
        {
          "output_type": "stream",
          "text": [
            "."
          ],
          "name": "stderr"
        },
        {
          "output_type": "stream",
          "text": [
            "\t Testing column based modelling\n"
          ],
          "name": "stdout"
        },
        {
          "output_type": "stream",
          "text": [
            "....."
          ],
          "name": "stderr"
        },
        {
          "output_type": "stream",
          "text": [
            "\t Testing fractional constraints\n"
          ],
          "name": "stdout"
        },
        {
          "output_type": "stream",
          "text": [
            "."
          ],
          "name": "stderr"
        },
        {
          "output_type": "stream",
          "text": [
            "\t Testing elastic constraints (no change)\n"
          ],
          "name": "stdout"
        },
        {
          "output_type": "stream",
          "text": [
            "."
          ],
          "name": "stderr"
        },
        {
          "output_type": "stream",
          "text": [
            "\t Testing elastic constraints (freebound)\n"
          ],
          "name": "stdout"
        },
        {
          "output_type": "stream",
          "text": [
            "."
          ],
          "name": "stderr"
        },
        {
          "output_type": "stream",
          "text": [
            "\t Testing elastic constraints (penalty unchanged)\n"
          ],
          "name": "stdout"
        },
        {
          "output_type": "stream",
          "text": [
            "................."
          ],
          "name": "stderr"
        },
        {
          "output_type": "stream",
          "text": [
            "\t Testing elastic constraints (penalty unbounded)\n",
            "\t Testing timeLimit argument\n"
          ],
          "name": "stdout"
        },
        {
          "output_type": "stream",
          "text": [
            ".............................\n",
            "----------------------------------------------------------------------\n",
            "Ran 231 tests in 37.380s\n",
            "\n",
            "OK\n"
          ],
          "name": "stderr"
        }
      ]
    },
    {
      "cell_type": "code",
      "metadata": {
        "id": "ZndVHSULgESa"
      },
      "source": [
        "from pulp import *\n",
        "import pandas as pd\n",
        "import numpy as np"
      ],
      "execution_count": 4,
      "outputs": []
    },
    {
      "cell_type": "code",
      "metadata": {
        "colab": {
          "base_uri": "https://localhost:8080/"
        },
        "id": "6CTQWRLthmh6",
        "outputId": "122c8b41-3889-4f4a-d5b1-8a01eef1c656"
      },
      "source": [
        "pip install fsspec"
      ],
      "execution_count": 5,
      "outputs": [
        {
          "output_type": "stream",
          "text": [
            "Collecting fsspec\n",
            "\u001b[?25l  Downloading https://files.pythonhosted.org/packages/ec/80/72ac0982cc833945fada4b76c52f0f65435ba4d53bc9317d1c70b5f7e7d5/fsspec-0.8.5-py3-none-any.whl (98kB)\n",
            "\r\u001b[K     |███▎                            | 10kB 16.9MB/s eta 0:00:01\r\u001b[K     |██████▋                         | 20kB 20.7MB/s eta 0:00:01\r\u001b[K     |██████████                      | 30kB 13.0MB/s eta 0:00:01\r\u001b[K     |█████████████▎                  | 40kB 9.7MB/s eta 0:00:01\r\u001b[K     |████████████████▋               | 51kB 5.5MB/s eta 0:00:01\r\u001b[K     |████████████████████            | 61kB 5.6MB/s eta 0:00:01\r\u001b[K     |███████████████████████▏        | 71kB 5.6MB/s eta 0:00:01\r\u001b[K     |██████████████████████████▌     | 81kB 6.2MB/s eta 0:00:01\r\u001b[K     |█████████████████████████████▉  | 92kB 6.6MB/s eta 0:00:01\r\u001b[K     |████████████████████████████████| 102kB 4.6MB/s \n",
            "\u001b[?25hInstalling collected packages: fsspec\n",
            "Successfully installed fsspec-0.8.5\n"
          ],
          "name": "stdout"
        }
      ]
    },
    {
      "cell_type": "markdown",
      "metadata": {
        "id": "97FjaA6pxhPA"
      },
      "source": [
        "Zad.1 \n",
        "\n",
        "Mamy sześciu pracowników(Ania, Stefan, Hektor, Olaf, Lidia, Piotr). Maksymalna liczba dni, w których może pracować każdy pracownik wynosi 3. \n",
        "\n",
        "Mamy podaną ilość pracowników, która powinna być obecna w pracy danego dnia(Pon = 2, Wt = 1, Sr=1, Czw=1, Pt=3), a także mamy podane w jakie dni pasuje konkretnemu pracownikowi(Ania(codziennie), Stefan(Pon), Hektor(Pon, Wt, Sr), Olaf(codziennie), Lidia(Czw, Pt), Piotr(Pon, Wt, Sr)). \n",
        "\n",
        "Ostatnim czynnikiem, jaki musimy wziąc pod uwagę jest pensja dzienna każdego z pracowników: Ania(100zł/dzień), Stefan(50zł/dzień), Hektor(60zł/dzień), Olaf(40zł/dzień), Lidia(11zł/dzień) i Piotr(70zł/dzień)"
      ]
    },
    {
      "cell_type": "code",
      "metadata": {
        "colab": {
          "base_uri": "https://localhost:8080/"
        },
        "id": "nuBg9dImlV6t",
        "outputId": "743eb11c-92ec-47bb-b7e5-1b49134c9071"
      },
      "source": [
        "#import pliku Excel do Python\n",
        "schedule = pd.read_excel('/content/sample_data/Schedule_Problem_Sheet.xlsx', sheet_name='Workers')\n",
        "print(schedule)"
      ],
      "execution_count": 8,
      "outputs": [
        {
          "output_type": "stream",
          "text": [
            "  Unnamed: 0  Pon  Wt  Sr  Czw  Pt  Zarobek\n",
            "0       Ania    0   1   0    0   1      200\n",
            "1     Stefan    1   0   0    0   0       50\n",
            "2     Hektor    1   0   0    0   0       60\n",
            "3      Olaf     0   0   0    1   1       80\n",
            "4      Lidia    0   0   0    0   1       11\n",
            "5      Piotr    0   0   1    0   0       70\n"
          ],
          "name": "stdout"
        }
      ]
    },
    {
      "cell_type": "code",
      "metadata": {
        "colab": {
          "base_uri": "https://localhost:8080/",
          "height": 237
        },
        "id": "Ot99xdlEr1pi",
        "outputId": "5884b25e-aa85-47d8-d3af-2102450d0d2b"
      },
      "source": [
        "schedule"
      ],
      "execution_count": 9,
      "outputs": [
        {
          "output_type": "execute_result",
          "data": {
            "text/html": [
              "<div>\n",
              "<style scoped>\n",
              "    .dataframe tbody tr th:only-of-type {\n",
              "        vertical-align: middle;\n",
              "    }\n",
              "\n",
              "    .dataframe tbody tr th {\n",
              "        vertical-align: top;\n",
              "    }\n",
              "\n",
              "    .dataframe thead th {\n",
              "        text-align: right;\n",
              "    }\n",
              "</style>\n",
              "<table border=\"1\" class=\"dataframe\">\n",
              "  <thead>\n",
              "    <tr style=\"text-align: right;\">\n",
              "      <th></th>\n",
              "      <th>Unnamed: 0</th>\n",
              "      <th>Pon</th>\n",
              "      <th>Wt</th>\n",
              "      <th>Sr</th>\n",
              "      <th>Czw</th>\n",
              "      <th>Pt</th>\n",
              "      <th>Zarobek</th>\n",
              "    </tr>\n",
              "  </thead>\n",
              "  <tbody>\n",
              "    <tr>\n",
              "      <th>0</th>\n",
              "      <td>Ania</td>\n",
              "      <td>0</td>\n",
              "      <td>1</td>\n",
              "      <td>0</td>\n",
              "      <td>0</td>\n",
              "      <td>1</td>\n",
              "      <td>200</td>\n",
              "    </tr>\n",
              "    <tr>\n",
              "      <th>1</th>\n",
              "      <td>Stefan</td>\n",
              "      <td>1</td>\n",
              "      <td>0</td>\n",
              "      <td>0</td>\n",
              "      <td>0</td>\n",
              "      <td>0</td>\n",
              "      <td>50</td>\n",
              "    </tr>\n",
              "    <tr>\n",
              "      <th>2</th>\n",
              "      <td>Hektor</td>\n",
              "      <td>1</td>\n",
              "      <td>0</td>\n",
              "      <td>0</td>\n",
              "      <td>0</td>\n",
              "      <td>0</td>\n",
              "      <td>60</td>\n",
              "    </tr>\n",
              "    <tr>\n",
              "      <th>3</th>\n",
              "      <td>Olaf</td>\n",
              "      <td>0</td>\n",
              "      <td>0</td>\n",
              "      <td>0</td>\n",
              "      <td>1</td>\n",
              "      <td>1</td>\n",
              "      <td>80</td>\n",
              "    </tr>\n",
              "    <tr>\n",
              "      <th>4</th>\n",
              "      <td>Lidia</td>\n",
              "      <td>0</td>\n",
              "      <td>0</td>\n",
              "      <td>0</td>\n",
              "      <td>0</td>\n",
              "      <td>1</td>\n",
              "      <td>11</td>\n",
              "    </tr>\n",
              "    <tr>\n",
              "      <th>5</th>\n",
              "      <td>Piotr</td>\n",
              "      <td>0</td>\n",
              "      <td>0</td>\n",
              "      <td>1</td>\n",
              "      <td>0</td>\n",
              "      <td>0</td>\n",
              "      <td>70</td>\n",
              "    </tr>\n",
              "  </tbody>\n",
              "</table>\n",
              "</div>"
            ],
            "text/plain": [
              "  Unnamed: 0  Pon  Wt  Sr  Czw  Pt  Zarobek\n",
              "0       Ania    0   1   0    0   1      200\n",
              "1     Stefan    1   0   0    0   0       50\n",
              "2     Hektor    1   0   0    0   0       60\n",
              "3      Olaf     0   0   0    1   1       80\n",
              "4      Lidia    0   0   0    0   1       11\n",
              "5      Piotr    0   0   1    0   0       70"
            ]
          },
          "metadata": {
            "tags": []
          },
          "execution_count": 9
        }
      ]
    },
    {
      "cell_type": "code",
      "metadata": {
        "id": "hmFVk1aR4Vmo"
      },
      "source": [
        "import pulp \n",
        "table = ()\n",
        "max_workers = 6\n",
        "max_days = 5 \n",
        "workers = 'Ania Stefan Hektor Olaf Lidia Piotr'.split()\n",
        "days = 'Pon Wt Sr Czw Pt'.split()\n",
        "\n",
        "def workers_per_day(workers_in_day):\n",
        "    return abs(ord(workers_in_day[0])) - ord(table[-1])\n",
        "\n",
        "all_workers = [tuple(c) for c in pulp.allcombinations(workers, max_workers)]\n",
        "\n",
        "all_day = [tuple(c) for c in pulp.allcombinations(days, max_days)]"
      ],
      "execution_count": 54,
      "outputs": []
    },
    {
      "cell_type": "code",
      "metadata": {
        "id": "_aXrgDG4xhu_"
      },
      "source": [
        "x = pulp.LpVariable.dicts('table', all_workers, lowBound=0, upBound=1, cat=pulp.LpInteger)"
      ],
      "execution_count": 55,
      "outputs": []
    },
    {
      "cell_type": "code",
      "metadata": {
        "id": "Mv52pZWfJMIg"
      },
      "source": [
        "y = pulp.LpVariable.dicts('table', all_workers, lowBound=0, upBound=1, cat=pulp.LpInteger)"
      ],
      "execution_count": 56,
      "outputs": []
    },
    {
      "cell_type": "code",
      "metadata": {
        "id": "9_syQemTY8X-"
      },
      "source": [
        "Workers_Model = pulp.LpProblem(\"Workers_Problem\", pulp.LpMinimize)"
      ],
      "execution_count": 57,
      "outputs": []
    },
    {
      "cell_type": "code",
      "metadata": {
        "id": "OeWIEuiFeg9_"
      },
      "source": [
        "Days_Model = pulp.LpProblem(\"Days_Problem\", pulp.LpMinimize)"
      ],
      "execution_count": 58,
      "outputs": []
    },
    {
      "cell_type": "code",
      "metadata": {
        "colab": {
          "base_uri": "https://localhost:8080/",
          "height": 231
        },
        "id": "uwH0lbsVeyzj",
        "outputId": "4d3f7d6e-5f3c-480b-f68f-94e307499d36"
      },
      "source": [
        "Workers_Model.solve()\n",
        "for workers in zip(workers, days):\n",
        "  if x[workers].values() <= 3:\n",
        "    print(all_workers)  "
      ],
      "execution_count": 64,
      "outputs": [
        {
          "output_type": "error",
          "ename": "KeyError",
          "evalue": "ignored",
          "traceback": [
            "\u001b[0;31m---------------------------------------------------------------------------\u001b[0m",
            "\u001b[0;31mKeyError\u001b[0m                                  Traceback (most recent call last)",
            "\u001b[0;32m<ipython-input-64-46de13f2d9d9>\u001b[0m in \u001b[0;36m<module>\u001b[0;34m()\u001b[0m\n\u001b[1;32m      1\u001b[0m \u001b[0mWorkers_Model\u001b[0m\u001b[0;34m.\u001b[0m\u001b[0msolve\u001b[0m\u001b[0;34m(\u001b[0m\u001b[0;34m)\u001b[0m\u001b[0;34m\u001b[0m\u001b[0;34m\u001b[0m\u001b[0m\n\u001b[1;32m      2\u001b[0m \u001b[0;32mfor\u001b[0m \u001b[0mworkers\u001b[0m \u001b[0;32min\u001b[0m \u001b[0mzip\u001b[0m\u001b[0;34m(\u001b[0m\u001b[0mworkers\u001b[0m\u001b[0;34m,\u001b[0m \u001b[0mdays\u001b[0m\u001b[0;34m)\u001b[0m\u001b[0;34m:\u001b[0m\u001b[0;34m\u001b[0m\u001b[0;34m\u001b[0m\u001b[0m\n\u001b[0;32m----> 3\u001b[0;31m   \u001b[0;32mif\u001b[0m \u001b[0mx\u001b[0m\u001b[0;34m[\u001b[0m\u001b[0mworkers\u001b[0m\u001b[0;34m]\u001b[0m\u001b[0;34m.\u001b[0m\u001b[0mvalues\u001b[0m\u001b[0;34m(\u001b[0m\u001b[0;34m)\u001b[0m \u001b[0;34m<=\u001b[0m \u001b[0;36m3\u001b[0m\u001b[0;34m:\u001b[0m\u001b[0;34m\u001b[0m\u001b[0;34m\u001b[0m\u001b[0m\n\u001b[0m\u001b[1;32m      4\u001b[0m     \u001b[0mprint\u001b[0m\u001b[0;34m(\u001b[0m\u001b[0mall_workers\u001b[0m\u001b[0;34m)\u001b[0m\u001b[0;34m\u001b[0m\u001b[0;34m\u001b[0m\u001b[0m\n",
            "\u001b[0;31mKeyError\u001b[0m: ('Ania', 'Pon')"
          ]
        }
      ]
    }
  ]
}